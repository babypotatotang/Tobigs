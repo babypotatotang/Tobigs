{
  "nbformat": 4,
  "nbformat_minor": 0,
  "metadata": {
    "colab": {
      "name": "신용카드 사기 거래 탐지 AI 경진대회.ipynb",
      "private_outputs": true,
      "provenance": []
    },
    "kernelspec": {
      "name": "python3",
      "display_name": "Python 3"
    },
    "language_info": {
      "name": "python"
    }
  },
  "cells": [
    {
      "cell_type": "markdown",
      "source": [
        "# **프로젝트 개요**\n",
        "## **1. 배경**\n",
        "안녕하세요 여러분! 😀 신용카드 사기 거래 탐지 AI 경진대회에 오신 것을 환영합니다.\n",
        "\n",
        "신용카드 회사는 사기성 신용카드 거래를 탐지하여 고객이 구매하지 않은 항목에 대해 요금을 청구하지 않는 것이 중요하며, 이러한 문제를 해결하기 위한 사기 거래를 사전에 탐지할 수 있는 도구가 필요합니다.\n",
        "\n",
        "그러나 매일 누적되는 방대한 양의 신용카드 거래 데이터 속에서 사기 거래는 극히 일부이며, 방대한 양의 사기 거래 케이스의 데이터를 구축하기에는 너무나도 많은 시간이 소요될 것입니다. 또한 모든 데이터에 대해서 사기 거래 여부를 확인하고 기록하는 작업(Labeling)은 많은 비용을 필요로 합니다.\n",
        "\n",
        "만약, **신용카드 사기 거래의 여부를 모르는 방대한 데이터로도 사기 거래를 탐지할 수 있는 AI 모델(Unsupervised Anomaly Detection)을 개발할 수 있다면** 데이터 구축에 필요한 시간, 비용의 문제도 모두 해결할 수 있을 것입니다.\n",
        "\n",
        "추가로, **기존에 구축된 신용카드 사기 거래 여부를 알 수 있는 데이터셋(Validation)은 데이커분들이 이러한 AI 모델을 개발하고 자체적으로 성능을 평가**해보는 것에 있어서 큰 도움을 줄 것입니다.\n",
        "\n",
        "따라서 데이터 구축관련 비용 문제를 해결하고, 신용카드 사기 거래 역시 완벽히 탐지해낼 수 있는 AI 모델을 개발해주세요!\n",
        "\n",
        "## **2. 주제**\n",
        "비식별화된 신용카드 거래 데이터로부터 사기 거래를 탐지하는 AI 솔루션 개발\n",
        "\n",
        "## **3. 주최 / 주관**\n",
        "주최 / 주관: 데이콘"
      ],
      "metadata": {
        "id": "RopCEpsUovEw"
      }
    },
    {
      "cell_type": "markdown",
      "source": [
        "## **초기 세팅**\n",
        "* Google Colab 환경"
      ],
      "metadata": {
        "id": "CO3wRtZSpTEs"
      }
    },
    {
      "cell_type": "code",
      "execution_count": null,
      "metadata": {
        "id": "QapDOtpUl6Id"
      },
      "outputs": [],
      "source": [
        "%cd \"/content/drive/MyDrive/Colab Notebooks\"\n",
        "!unzip \"open.zip\""
      ]
    },
    {
      "cell_type": "markdown",
      "source": [
        "## **Code**\n",
        "### **Import**"
      ],
      "metadata": {
        "id": "TpLtatvYpbqT"
      }
    },
    {
      "cell_type": "code",
      "source": [
        "import pandas as pd\n",
        "import numpy as np\n",
        "\n",
        "from sklearn.ensemble import IsolationForest\n",
        "from sklearn.metrics import f1_score\n",
        "from sklearn.metrics import classification_report\n",
        "from sklearn.preprocessing import MinMaxScaler\n",
        "\n",
        "import matplotlib.pyplot as plt\n",
        "\n",
        "import warnings\n",
        "warnings.filterwarnings(action='ignore')"
      ],
      "metadata": {
        "id": "rhsm0K_doMa4"
      },
      "execution_count": null,
      "outputs": []
    },
    {
      "cell_type": "markdown",
      "source": [
        "### **Data Load**"
      ],
      "metadata": {
        "id": "DAoy9tFOpzFA"
      }
    },
    {
      "cell_type": "code",
      "source": [
        "train_df = pd.read_csv('./train.csv') # Train\n",
        "train_df.head()"
      ],
      "metadata": {
        "id": "SXjEcjH_orBc"
      },
      "execution_count": null,
      "outputs": []
    },
    {
      "cell_type": "code",
      "source": [
        "val_df = pd.read_csv('./val.csv') # Validation\n",
        "val_df.head()"
      ],
      "metadata": {
        "id": "VtziFxp6p3Xa"
      },
      "execution_count": null,
      "outputs": []
    },
    {
      "cell_type": "markdown",
      "source": [
        "### **Train / Validation Feature 분포 확인**"
      ],
      "metadata": {
        "id": "WI9-udTyp3Il"
      }
    },
    {
      "cell_type": "code",
      "source": [
        "train_df.drop(columns=['ID']).hist(bins = 50, figsize =(20,20))\n",
        "plt.show()"
      ],
      "metadata": {
        "id": "CsZC5PGhp_lD"
      },
      "execution_count": null,
      "outputs": []
    },
    {
      "cell_type": "code",
      "source": [
        "val_df.drop(columns=['ID','Class']).hist(bins = 50, figsize =(20,20))\n",
        "plt.show()"
      ],
      "metadata": {
        "id": "Q7yrYplqqadT"
      },
      "execution_count": null,
      "outputs": []
    },
    {
      "cell_type": "markdown",
      "source": [
        "### **Scaling**"
      ],
      "metadata": {
        "id": "w_OqRrnugz4N"
      }
    },
    {
      "cell_type": "code",
      "source": [
        "# Min-Max Transform\n",
        "Scaler = MinMaxScaler()\n",
        "\n",
        "train_scaled = Scaler.fit_transform(train_df)\n",
        "train_df = pd.DataFrame(train_scaled, columns = train_df.columns, index=list(train_df.index.values))\n",
        "\n",
        "val_scaled = Scaler.fit_transform(val_df)\n"
      ],
      "metadata": {
        "id": "MnKQczBTg1td"
      },
      "execution_count": null,
      "outputs": []
    },
    {
      "cell_type": "code",
      "source": [
        "train_df = train_df.ewm(alpha=0.9).mean()\n",
        "val_df = val_df.ewm(alpha=0.9).mean()"
      ],
      "metadata": {
        "id": "JnF50YOwjLkc"
      },
      "execution_count": null,
      "outputs": []
    },
    {
      "cell_type": "code",
      "source": [
        "val_df = pd.DataFrame(val_scaled, columns = val_df.columns, index=list(val_df.index.values))"
      ],
      "metadata": {
        "id": "JoaoQWBXjXh9"
      },
      "execution_count": null,
      "outputs": []
    },
    {
      "cell_type": "markdown",
      "source": [
        "### **Validation set 사기 거래 비율**\n",
        "* **Validation set의 사기 거래 비율이 다른 데이터 집합에서도 비슷하게 발생할 것이라고 가정**"
      ],
      "metadata": {
        "id": "1lyY72LjrJNE"
      }
    },
    {
      "cell_type": "code",
      "source": [
        "val_normal, val_fraud = val_df['Class'].value_counts()\n",
        "val_contamination = val_fraud / val_normal\n",
        "print(f'Validation contamination : [{val_contamination}]')"
      ],
      "metadata": {
        "id": "q7s8gABvrTmn"
      },
      "execution_count": null,
      "outputs": []
    },
    {
      "cell_type": "markdown",
      "source": [
        "### **Model Define & Fit**"
      ],
      "metadata": {
        "id": "Lcpog3GYry6W"
      }
    },
    {
      "cell_type": "code",
      "source": [
        "# Train dataset은 Label이 존재하지 않음\n",
        "train_x = train_df.drop(columns=['ID']) # InputData(ID 제외)    "
      ],
      "metadata": {
        "id": "3N40lAyhrTrj"
      },
      "execution_count": null,
      "outputs": []
    },
    {
      "cell_type": "code",
      "source": [
        "# 가설 설정 \n",
        "# Train Dataset도 Validation Dataset과 동일한 비율로 사기거래가 발생했을 것이다. \n",
        "# => model parameter값을 val_contamination으로\n",
        "model = IsolationForest(n_estimators = 125, max_samples = len(train_x), contamination = val_contamination, random_state=42, verbose=0)\n",
        "model.fit(train_x)"
      ],
      "metadata": {
        "id": "fofRDT_grTvR"
      },
      "execution_count": null,
      "outputs": []
    },
    {
      "cell_type": "markdown",
      "source": [
        "### **Evaluation : Validation set**"
      ],
      "metadata": {
        "id": "7XrIK2m5vPox"
      }
    },
    {
      "cell_type": "code",
      "source": [
        "def get_pred_label(model_pred):\n",
        "    model_pred = np.where(model_pred == 1, 0, model_pred)\n",
        "    model_pred = np.where(model_pred == -1,1, model_pred)\n",
        "\n",
        "    return model_pred"
      ],
      "metadata": {
        "id": "aslNhWprvV7d"
      },
      "execution_count": null,
      "outputs": []
    },
    {
      "cell_type": "code",
      "source": [
        "val_x = val_df.drop(columns=['ID','Class']) #Input Data\n",
        "val_y = val_df['Class'] # Label\n",
        "\n",
        "val_pred = model.predict(val_x)\n",
        "val_pred = get_pred_label(val_pred)\n",
        "val_score = f1_score(val_y,val_pred,average='macro')\n",
        "print(f'Validation F1 Score : [{val_score}]')\n",
        "print(classification_report(val_y,val_pred))"
      ],
      "metadata": {
        "id": "znuku-xXv03v"
      },
      "execution_count": null,
      "outputs": []
    },
    {
      "cell_type": "markdown",
      "source": [
        "### **Inference : Test set**"
      ],
      "metadata": {
        "id": "AKhTB6gGwi_F"
      }
    },
    {
      "cell_type": "code",
      "source": [
        "test_df = pd.read_csv('./test.csv')\n",
        "test_df.head()"
      ],
      "metadata": {
        "id": "LSd2S-Zxw4VN"
      },
      "execution_count": null,
      "outputs": []
    },
    {
      "cell_type": "code",
      "source": [
        "test_x = test_df.drop(columns=['ID'])"
      ],
      "metadata": {
        "id": "7BnD4NARw_ff"
      },
      "execution_count": null,
      "outputs": []
    },
    {
      "cell_type": "code",
      "source": [
        "test_scaled = Scaler.fit_transform(test_x)\n",
        "test_x = pd.DataFrame(test_scaled, columns = test_x.columns, index=list(test_x.index.values))"
      ],
      "metadata": {
        "id": "LrYxKqXScvg7"
      },
      "execution_count": null,
      "outputs": []
    },
    {
      "cell_type": "code",
      "source": [
        "test_pred = model.predict(test_x) # model prediction\n",
        "test_pred = get_pred_label(test_pred)"
      ],
      "metadata": {
        "id": "-Ymyk7bwxGhm"
      },
      "execution_count": null,
      "outputs": []
    },
    {
      "cell_type": "markdown",
      "source": [
        "### **Submission**"
      ],
      "metadata": {
        "id": "6d9VNcQbxR1L"
      }
    },
    {
      "cell_type": "code",
      "source": [
        "submit = pd.read_csv('./sample_submission.csv')\n",
        "submit.head()"
      ],
      "metadata": {
        "id": "-DGcmIxAxTtE"
      },
      "execution_count": null,
      "outputs": []
    },
    {
      "cell_type": "code",
      "source": [
        "submit['Class'] = test_pred\n",
        "submit.to_csv('./submit.csv',index=False)"
      ],
      "metadata": {
        "id": "3vKa5u2ExbKK"
      },
      "execution_count": null,
      "outputs": []
    },
    {
      "cell_type": "code",
      "source": [
        "submit.head()"
      ],
      "metadata": {
        "id": "aL21uS7ucaTe"
      },
      "execution_count": null,
      "outputs": []
    }
  ]
}