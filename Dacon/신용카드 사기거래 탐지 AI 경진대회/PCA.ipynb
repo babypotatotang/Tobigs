{
  "nbformat": 4,
  "nbformat_minor": 0,
  "metadata": {
    "colab": {
      "name": "PCA.ipynb",
      "private_outputs": true,
      "provenance": []
    },
    "kernelspec": {
      "name": "python3",
      "display_name": "Python 3"
    },
    "language_info": {
      "name": "python"
    }
  },
  "cells": [
    {
      "cell_type": "markdown",
      "source": [
        "## **Overview**\n",
        "* About\n",
        "    * val_fraud에서 높은 상관성 발견 -> PCA 시도\n",
        "    * Steps \n",
        "        1. val_df로 pca 시도\n",
        "        2. n_components 중 가장 정확도가 높은 방식으로 test PCA\n",
        "        -> n_components 값 \n",
        "* Insight\n",
        "    * pca 하기에는 데이터 셋이 부족하다. \n",
        "        * 이 방식을 사용할때는 class 값이 train, test 모두에 있어야 함\n",
        "    * 상관계수 확인해봤을 때, train, val_normal에서는 유의미한 분석을 할 수 없었음 \n",
        "        * pca를 막상 적용했을때 활용 능력이 없을 것으로 보임 \n",
        "* Reference\n",
        "    * https://www.oreilly.com/library/view/hands-on-unsupervised-learning/9781492035633/ch04.html\n",
        "    * https://github.com/aapatel09/handson-unsupervised-learning/blob/master/04_anomaly_detection.ipynb\n"
      ],
      "metadata": {
        "id": "XjRogeP8xZb7"
      }
    },
    {
      "cell_type": "markdown",
      "source": [
        "## **Import Libraries**"
      ],
      "metadata": {
        "id": "SN5_V3NkTaBk"
      }
    },
    {
      "cell_type": "code",
      "source": [
        "# Import libraries\n",
        "'''Main'''\n",
        "import numpy as np\n",
        "import pandas as pd\n",
        "import os, time\n",
        "import pickle, gzip\n",
        "\n",
        "'''Data Viz'''\n",
        "import matplotlib.pyplot as plt\n",
        "import seaborn as sns\n",
        "color = sns.color_palette()\n",
        "import matplotlib as mpl\n",
        "\n",
        "%matplotlib inline\n",
        "\n",
        "'''Data Prep and Model Evaluation'''\n",
        "from sklearn import preprocessing as pp\n",
        "from sklearn.model_selection import train_test_split \n",
        "from sklearn.metrics import precision_recall_curve, average_precision_score\n",
        "from sklearn.metrics import roc_curve, auc, roc_auc_score"
      ],
      "metadata": {
        "id": "OQ3NTxEUTdiR"
      },
      "execution_count": null,
      "outputs": []
    },
    {
      "cell_type": "markdown",
      "source": [
        "## **Data Load**"
      ],
      "metadata": {
        "id": "KH3dHfpwTVYY"
      }
    },
    {
      "cell_type": "code",
      "source": [
        "%cd '/content/drive/MyDrive/Colab Notebooks/신용카드 사기 거래 탐지 AI'\n",
        "\n",
        "train_df = pd.read_csv('train.csv',index_col=0)\n",
        "val_df = pd.read_csv('val.csv',index_col=0)\n",
        "\n",
        "print(train_df.shape)\n",
        "print(val_df.shape) "
      ],
      "metadata": {
        "id": "_zHVIv73TX8k"
      },
      "execution_count": null,
      "outputs": []
    },
    {
      "cell_type": "markdown",
      "source": [
        "### **Evaluation Function**"
      ],
      "metadata": {
        "id": "b0VpDvlbXAAr"
      }
    },
    {
      "cell_type": "code",
      "source": [
        "# View scatterplot\n",
        "def scatterPlot(xDF, yDF, algoName):\n",
        "    tempDF = pd.DataFrame(data=xDF.loc[:,0:1], index=xDF.index)\n",
        "    tempDF = pd.concat((tempDF,yDF), axis=1, join=\"inner\")\n",
        "    tempDF.columns = [\"First Vector\", \"Second Vector\", \"Label\"]\n",
        "    sns.lmplot(x=\"First Vector\", y=\"Second Vector\", hue=\"Label\", \\\n",
        "               data=tempDF, fit_reg=False)\n",
        "    ax = plt.gca()\n",
        "    ax.set_title(\"Separation of Observations using \"+algoName)"
      ],
      "metadata": {
        "id": "8PtYQhKWW5DV"
      },
      "execution_count": null,
      "outputs": []
    },
    {
      "cell_type": "code",
      "source": [
        "# Calculate reconstruction error\n",
        "def anomalyScores(originalDF, reducedDF):\n",
        "    loss = np.sum((np.array(originalDF)-np.array(reducedDF))**2, axis=1)\n",
        "    loss = pd.Series(data=loss,index=originalDF.index)\n",
        "    loss = (loss-np.min(loss))/(np.max(loss)-np.min(loss))\n",
        "    return loss"
      ],
      "metadata": {
        "id": "muGBRkRmXC4a"
      },
      "execution_count": null,
      "outputs": []
    },
    {
      "cell_type": "code",
      "source": [
        "# Plot results\n",
        "def plotResults(trueLabels, anomalyScores, returnPreds = False):\n",
        "    preds = pd.concat([trueLabels, anomalyScores], axis=1)\n",
        "    preds.columns = ['trueLabel', 'anomalyScore']\n",
        "    precision, recall, thresholds = \\\n",
        "        precision_recall_curve(preds['trueLabel'],preds['anomalyScore'])\n",
        "    average_precision = \\\n",
        "        average_precision_score(preds['trueLabel'],preds['anomalyScore'])\n",
        "    \n",
        "    plt.step(recall, precision, color='k', alpha=0.7, where='post')\n",
        "    plt.fill_between(recall, precision, step='post', alpha=0.3, color='k')\n",
        "\n",
        "    plt.xlabel('Recall')\n",
        "    plt.ylabel('Precision')\n",
        "    plt.ylim([0.0, 1.05])\n",
        "    plt.xlim([0.0, 1.0])\n",
        "    \n",
        "    plt.title('Precision-Recall curve: Average Precision = \\\n",
        "    {0:0.2f}'.format(average_precision))\n",
        "\n",
        "    fpr, tpr, thresholds = roc_curve(preds['trueLabel'], \\\n",
        "                                     preds['anomalyScore'])\n",
        "    areaUnderROC = auc(fpr, tpr)\n",
        "\n",
        "    plt.figure()\n",
        "    plt.plot(fpr, tpr, color='r', lw=2, label='ROC curve')\n",
        "    plt.plot([0, 1], [0, 1], color='k', lw=2, linestyle='--')\n",
        "    plt.xlim([0.0, 1.0])\n",
        "    plt.ylim([0.0, 1.05])\n",
        "    plt.xlabel('False Positive Rate')\n",
        "    plt.ylabel('True Positive Rate')\n",
        "    plt.title('Receiver operating characteristic: \\\n",
        "    Area under the curve = {0:0.2f}'.format(areaUnderROC))\n",
        "    plt.legend(loc=\"lower right\")\n",
        "    plt.show()\n",
        "    \n",
        "    if returnPreds==True:\n",
        "        return preds"
      ],
      "metadata": {
        "id": "1wGBEdgUXFLI"
      },
      "execution_count": null,
      "outputs": []
    },
    {
      "cell_type": "code",
      "source": [
        "X_train = val_df.drop(['Class'],axis=1)\n",
        "y_train = val_df.loc[:,'Class'].copy()"
      ],
      "metadata": {
        "id": "MgzkJBtxWguL"
      },
      "execution_count": null,
      "outputs": []
    },
    {
      "cell_type": "code",
      "source": [
        "y_train.value_counts() # fraud 데이터 30 "
      ],
      "metadata": {
        "id": "aXC4l-PBwfz1"
      },
      "execution_count": null,
      "outputs": []
    },
    {
      "cell_type": "code",
      "source": [
        "from sklearn.decomposition import PCA\n",
        "\n",
        "n_components = 2\n",
        "whiten = False\n",
        "random_state = 2018\n",
        "\n",
        "pca = PCA(n_components=n_components, whiten=whiten, \\\n",
        "          random_state=random_state)\n",
        "\n",
        "X_train_PCA = pca.fit_transform(X_train)\n",
        "X_train_PCA = pd.DataFrame(data=X_train_PCA, index=X_train.index)\n",
        "\n",
        "X_train_PCA_inverse = pca.inverse_transform(X_train_PCA)\n",
        "X_train_PCA_inverse = pd.DataFrame(data=X_train_PCA_inverse, \\\n",
        "                                   index=X_train.index)\n",
        "\n",
        "scatterPlot(X_train_PCA, y_train, \"PCA\")"
      ],
      "metadata": {
        "id": "0J-JY8ttTxRH"
      },
      "execution_count": null,
      "outputs": []
    },
    {
      "cell_type": "code",
      "source": [
        "# View plot\n",
        "anomalyScoresPCA = anomalyScores(X_train, X_train_PCA_inverse)\n",
        "preds = plotResults(y_train, anomalyScoresPCA, True)"
      ],
      "metadata": {
        "id": "LkrKs4aAW921"
      },
      "execution_count": null,
      "outputs": []
    },
    {
      "cell_type": "code",
      "source": [
        "# Analyze results\n",
        "preds.sort_values(by=\"anomalyScore\",ascending=False,inplace=True)\n",
        "cutoff = 350\n",
        "predsTop = preds[:cutoff]\n",
        "print(\"Precision: \",np.round(predsTop. \\\n",
        "            anomalyScore[predsTop.trueLabel==1].count()/cutoff,2))\n",
        "print(\"Recall: \",np.round(predsTop. \\\n",
        "            anomalyScore[predsTop.trueLabel==1].count()/y_train.sum(),2))\n",
        "print(\"Fraud Caught out of 30 Cases:\", predsTop.trueLabel.sum())"
      ],
      "metadata": {
        "id": "IB4XcW-pXW6o"
      },
      "execution_count": null,
      "outputs": []
    }
  ]
}