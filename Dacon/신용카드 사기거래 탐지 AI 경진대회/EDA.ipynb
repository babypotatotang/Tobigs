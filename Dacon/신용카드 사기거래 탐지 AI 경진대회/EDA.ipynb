{
  "cells": [
    {
      "cell_type": "markdown",
      "metadata": {
        "colab_type": "text",
        "id": "view-in-github"
      },
      "source": [
        "<a href=\"https://colab.research.google.com/github/babypotatotang/Tobigs/blob/main/Dacon/%EC%8B%A0%EC%9A%A9%EC%B9%B4%EB%93%9C%20%EC%82%AC%EA%B8%B0%EA%B1%B0%EB%9E%98%20%ED%83%90%EC%A7%80%20AI%20%EA%B2%BD%EC%A7%84%EB%8C%80%ED%9A%8C/EDA.ipynb\" target=\"_parent\"><img src=\"https://colab.research.google.com/assets/colab-badge.svg\" alt=\"Open In Colab\"/></a>"
      ]
    },
    {
      "cell_type": "markdown",
      "metadata": {
        "id": "xjmPyryY2ZrC"
      },
      "source": [
        "## **Settings**"
      ]
    },
    {
      "cell_type": "code",
      "execution_count": 1,
      "metadata": {
        "id": "_EB8bCGF3QIp"
      },
      "outputs": [],
      "source": [
        "import pandas as pd\n",
        "import numpy as np\n",
        "\n",
        "import matplotlib.pyplot as plt\n",
        "import seaborn as sns"
      ]
    },
    {
      "cell_type": "code",
      "execution_count": null,
      "metadata": {
        "id": "R8AAmfax2cfL"
      },
      "outputs": [],
      "source": [
        "import os, sys\n",
        "from google.colab import drive\n",
        "drive.mount('/content/drive')"
      ]
    },
    {
      "cell_type": "code",
      "execution_count": null,
      "metadata": {
        "id": "YfPglXWs3N_Q"
      },
      "outputs": [],
      "source": [
        "%cd '/content/drive/MyDrive/Colab Notebooks/신용카드 사기 거래 탐지 AI'\n",
        "\n",
        "train_df = pd.read_csv('train.csv',index_col=0)\n",
        "val_df = pd.read_csv('val.csv',index_col=0)\n",
        "\n",
        "print(train_df.shape)\n",
        "print(val_df.shape) "
      ]
    },
    {
      "cell_type": "code",
      "execution_count": 2,
      "metadata": {},
      "outputs": [],
      "source": [
        "train_df = pd.read_csv('D:\\\\2022\\\\Tobigs\\\\Dacon\\\\신용카드 사기거래 탐지 AI 경진대회\\\\Data\\\\train.csv')\n",
        "val_df = pd.read_csv('D:\\\\2022\\\\Tobigs\\\\Dacon\\\\신용카드 사기거래 탐지 AI 경진대회\\\\Data\\\\val.csv',index_col=0)"
      ]
    },
    {
      "cell_type": "markdown",
      "metadata": {
        "id": "FKzud7_03_Y8"
      },
      "source": [
        "* Val에는 class column이 있어서 31개 shape을 가짐"
      ]
    },
    {
      "cell_type": "markdown",
      "metadata": {
        "id": "xzdufFGh4KTm"
      },
      "source": [
        "## **Statistics**\n",
        "* 표준화데이터 아님.\n",
        "* train과 val 모두 변수 V29가 180으로 다른 변수들 보다 값이 높음. "
      ]
    },
    {
      "cell_type": "code",
      "execution_count": null,
      "metadata": {
        "id": "odACCr1c4Iqz"
      },
      "outputs": [],
      "source": [
        "train_df.describe()"
      ]
    },
    {
      "cell_type": "code",
      "execution_count": null,
      "metadata": {
        "id": "nmeiEQ6_4Z6r"
      },
      "outputs": [],
      "source": [
        "val_df.describe()"
      ]
    },
    {
      "cell_type": "code",
      "execution_count": null,
      "metadata": {
        "id": "Dg9YK8sz477q"
      },
      "outputs": [],
      "source": [
        "val_normal, val_fraud = val_df['Class'].value_counts()\n",
        "val_contamination = val_fraud / val_normal\n",
        "print(f'Validation contamination : [{val_contamination}]')"
      ]
    },
    {
      "cell_type": "markdown",
      "metadata": {
        "id": "ICsBUwDh5NuE"
      },
      "source": [
        "## **Correlation**\n",
        "### **Train**\n",
        "* V29와 V30외에는 뚜렷한 상관성을 파악하지 못했음."
      ]
    },
    {
      "cell_type": "code",
      "execution_count": 3,
      "metadata": {
        "id": "3dt7W8NI5RBa"
      },
      "outputs": [
        {
          "data": {
            "text/plain": [
              "<AxesSubplot:>"
            ]
          },
          "execution_count": 3,
          "metadata": {},
          "output_type": "execute_result"
        },
        {
          "data": {
            "image/png": "[encoded data removed]",
            "text/plain": [
              "<Figure size 432x288 with 2 Axes>"
            ]
          },
          "metadata": {
            "needs_background": "light"
          },
          "output_type": "display_data"
        }
      ],
      "source": [
        "MatCor = train_df.corr()\n",
        "sns.heatmap(MatCor)"
      ]
    },
    {
      "cell_type": "markdown",
      "metadata": {
        "id": "8Va9IPNZ6QGn"
      },
      "source": [
        "## **Val**\n",
        "* Validation Dataset의 경우 fraud normal을 나누어서 상관성 분석\n",
        "* normal\n",
        "    * train set와 유사한 결과\n",
        "    * 각 변수 별 유의미한 상관성 파악 x\n",
        "* fraud\n",
        "    * 변수별로 강한 상관관계를 가짐 \n",
        "        * V2, V4, V16 등 \n",
        "        * pca 성분 추출? \n",
        "        * clustering? "
      ]
    },
    {
      "cell_type": "code",
      "execution_count": 4,
      "metadata": {
        "id": "5_SUUBgr6dhz"
      },
      "outputs": [],
      "source": [
        "# fraud 와 normal 나누기\n",
        "Groups = val_df.groupby(val_df.Class)\n",
        "val_fraud = Groups.get_group(1)\n",
        "val_normal = Groups.get_group(0)"
      ]
    },
    {
      "cell_type": "code",
      "execution_count": 5,
      "metadata": {
        "id": "a8v0jQ1T7tOT"
      },
      "outputs": [
        {
          "data": {
            "text/plain": [
              "<AxesSubplot:>"
            ]
          },
          "execution_count": 5,
          "metadata": {},
          "output_type": "execute_result"
        },
        {
          "data": {
            "image/png": "[encoded data removed]",
            "text/plain": [
              "<Figure size 432x288 with 2 Axes>"
            ]
          },
          "metadata": {
            "needs_background": "light"
          },
          "output_type": "display_data"
        }
      ],
      "source": [
        "# normal\n",
        "sns.heatmap(val_normal.corr())"
      ]
    },
    {
      "cell_type": "code",
      "execution_count": 7,
      "metadata": {
        "id": "3soXerwm75y8"
      },
      "outputs": [
        {
          "data": {
            "text/plain": [
              "<AxesSubplot:>"
            ]
          },
          "execution_count": 7,
          "metadata": {},
          "output_type": "execute_result"
        },
        {
          "data": {
            "image/png": "[encoded data removed]",
            "text/plain": [
              "<Figure size 432x288 with 2 Axes>"
            ]
          },
          "metadata": {
            "needs_background": "light"
          },
          "output_type": "display_data"
        }
      ],
      "source": [
        "# fraud \n",
        "sns.heatmap(val_fraud.corr())"
      ]
    },
    {
      "cell_type": "code",
      "execution_count": 13,
      "metadata": {},
      "outputs": [
        {
          "name": "stdout",
          "output_type": "stream",
          "text": [
            "           ID        V1        V2        V3        V4        V5        V6  \\\n",
            "ID   1.000000  0.112910  0.000845 -0.414916 -0.100227  0.171102 -0.061731   \n",
            "V1   0.112910  1.000000  0.015507 -0.015559  0.005334 -0.009902 -0.000177   \n",
            "V2   0.000845  0.015507  1.000000  0.015350 -0.004632  0.005220  0.004119   \n",
            "V3  -0.414916 -0.015559  0.015350  1.000000  0.014562 -0.021869 -0.000392   \n",
            "V4  -0.100227  0.005334 -0.004632  0.014562  1.000000  0.009886  0.001191   \n",
            "V5   0.171102 -0.009902  0.005220 -0.021869  0.009886  1.000000 -0.000701   \n",
            "V6  -0.061731 -0.000177  0.004119 -0.000392  0.001191 -0.000701  1.000000   \n",
            "V7   0.081595 -0.021839  0.020025 -0.023424  0.011269 -0.012571 -0.010017   \n",
            "V8  -0.034201  0.003626  0.002628  0.002836  0.000271 -0.000730  0.008153   \n",
            "V9  -0.002427 -0.009599  0.001865 -0.017386  0.008993 -0.006367 -0.004149   \n",
            "V10  0.024556 -0.019278  0.011013 -0.028125  0.015209 -0.015695 -0.008792   \n",
            "V11 -0.238616  0.003578 -0.006297  0.014767 -0.011847  0.012430  0.002667   \n",
            "V12  0.123506 -0.011240  0.013002 -0.031194  0.019518 -0.016962 -0.008045   \n",
            "V13 -0.053894  0.003362  0.001395 -0.000198  0.000823  0.000159  0.000016   \n",
            "V14 -0.097324 -0.010310  0.018952 -0.027995  0.017077 -0.013393 -0.007086   \n",
            "V15 -0.175866 -0.002944 -0.003989 -0.000757  0.004899  0.004254  0.003166   \n",
            "V16  0.010877 -0.014766  0.005743 -0.025457  0.016185 -0.010199 -0.007531   \n",
            "V17 -0.077048 -0.023218  0.021561 -0.043299  0.029483 -0.032848 -0.007004   \n",
            "V18  0.089820 -0.007048  0.011934 -0.014518  0.008506 -0.012700 -0.000151   \n",
            "V19  0.028607 -0.000303 -0.007469 -0.000450  0.000459  0.003612  0.000606   \n",
            "V20 -0.047772  0.016057  0.022579  0.007484 -0.013619 -0.013624  0.014117   \n",
            "V21  0.042039  0.000829  0.010194 -0.001319 -0.000008 -0.013559  0.006419   \n",
            "V22  0.134033 -0.001097  0.003269  0.004616 -0.002732  0.004033 -0.004982   \n",
            "V23  0.050219  0.017551  0.015923  0.001575 -0.004866 -0.009856  0.004990   \n",
            "V24 -0.013915 -0.001289 -0.004967  0.003254  0.001741  0.004302 -0.001185   \n",
            "V25 -0.225939  0.002329 -0.003145  0.000031  0.001838 -0.001611 -0.000470   \n",
            "V26 -0.039474 -0.002013  0.000796  0.000671  0.002832 -0.000664 -0.003615   \n",
            "V27 -0.003649  0.004085  0.005265  0.003680 -0.007131  0.020649 -0.011486   \n",
            "V28 -0.007565 -0.044459 -0.056137 -0.022925  0.025828 -0.004484  0.000046   \n",
            "V29 -0.017644 -0.231744 -0.530737 -0.207185  0.091913 -0.382747  0.210381   \n",
            "V30  0.993388  0.118519 -0.008336 -0.429787 -0.103017  0.175038 -0.061977   \n",
            "\n",
            "           V7        V8        V9  ...       V21       V22       V23  \\\n",
            "ID   0.081595 -0.034201 -0.002427  ...  0.042039  0.134033  0.050219   \n",
            "V1  -0.021839  0.003626 -0.009599  ...  0.000829 -0.001097  0.017551   \n",
            "V2   0.020025  0.002628  0.001865  ...  0.010194  0.003269  0.015923   \n",
            "V3  -0.023424  0.002836 -0.017386  ... -0.001319  0.004616  0.001575   \n",
            "V4   0.011269  0.000271  0.008993  ... -0.000008 -0.002732 -0.004866   \n",
            "V5  -0.012571 -0.000730 -0.006367  ... -0.013559  0.004033 -0.009856   \n",
            "V6  -0.010017  0.008153 -0.004149  ...  0.006419 -0.004982  0.004990   \n",
            "V7   1.000000  0.000813 -0.009075  ...  0.008721 -0.000123  0.011034   \n",
            "V8   0.000813  1.000000 -0.003052  ...  0.001672  0.000508  0.013885   \n",
            "V9  -0.009075 -0.003052  1.000000  ... -0.007212 -0.002725 -0.008715   \n",
            "V10 -0.033170 -0.001326 -0.009130  ... -0.006280  0.001598 -0.015512   \n",
            "V11  0.017100 -0.004210  0.009347  ... -0.006372  0.000032 -0.001902   \n",
            "V12 -0.027035  0.008680 -0.017163  ...  0.004447  0.006262 -0.006749   \n",
            "V13 -0.002328  0.000216 -0.002462  ... -0.001357  0.000038 -0.008278   \n",
            "V14 -0.026328  0.010783 -0.016008  ...  0.010242 -0.000861  0.002720   \n",
            "V15 -0.005088 -0.001076 -0.002699  ...  0.001312 -0.001683 -0.007571   \n",
            "V16 -0.030188  0.006039 -0.017783  ...  0.012689 -0.000198 -0.005070   \n",
            "V17 -0.049680  0.008411 -0.029087  ...  0.003763  0.002498  0.005391   \n",
            "V18 -0.022684  0.001526 -0.013444  ...  0.000372 -0.001103  0.007771   \n",
            "V19  0.004158 -0.003837  0.002219  ...  0.000546 -0.006349 -0.006434   \n",
            "V20  0.027373 -0.004896 -0.000583  ... -0.008272  0.017365  0.054189   \n",
            "V21  0.008721  0.001672 -0.007212  ...  1.000000  0.011044  0.015318   \n",
            "V22 -0.000123  0.000508 -0.002725  ...  0.011044  1.000000 -0.002295   \n",
            "V23  0.011034  0.013885 -0.008715  ...  0.015318 -0.002295  1.000000   \n",
            "V24 -0.001084  0.000094  0.002114  ...  0.003217  0.001556 -0.007131   \n",
            "V25  0.000420 -0.003231 -0.001449  ...  0.008225  0.002036  0.007478   \n",
            "V26  0.004651  0.003217  0.001348  ...  0.001941 -0.003430  0.001616   \n",
            "V27 -0.033952 -0.006134 -0.001733  ...  0.006291 -0.006681 -0.033673   \n",
            "V28  0.006749 -0.014922  0.008454  ... -0.031159  0.002792  0.002355   \n",
            "V29  0.391239 -0.102777 -0.041503  ...  0.114076 -0.065640 -0.109790   \n",
            "V30  0.084646 -0.036350 -0.007580  ...  0.046886  0.144250  0.050357   \n",
            "\n",
            "          V24       V25       V26       V27       V28       V29       V30  \n",
            "ID  -0.013915 -0.225939 -0.039474 -0.003649 -0.007565 -0.017644  0.993388  \n",
            "V1  -0.001289  0.002329 -0.002013  0.004085 -0.044459 -0.231744  0.118519  \n",
            "V2  -0.004967 -0.003145  0.000796  0.005265 -0.056137 -0.530737 -0.008336  \n",
            "V3   0.003254  0.000031  0.000671  0.003680 -0.022925 -0.207185 -0.429787  \n",
            "V4   0.001741  0.001838  0.002832 -0.007131  0.025828  0.091913 -0.103017  \n",
            "V5   0.004302 -0.001611 -0.000664  0.020649 -0.004484 -0.382747  0.175038  \n",
            "V6  -0.001185 -0.000470 -0.003615 -0.011486  0.000046  0.210381 -0.061977  \n",
            "V7  -0.001084  0.000420  0.004651 -0.033952  0.006749  0.391239  0.084646  \n",
            "V8   0.000094 -0.003231  0.003217 -0.006134 -0.014922 -0.102777 -0.036350  \n",
            "V9   0.002114 -0.001449  0.001348 -0.001733  0.008454 -0.041503 -0.007580  \n",
            "V10  0.004706 -0.000694 -0.000581 -0.005133  0.002669 -0.103121  0.029717  \n",
            "V11 -0.003079 -0.003555  0.001169 -0.001217 -0.001694 -0.002312 -0.247051  \n",
            "V12  0.000183 -0.000906  0.000006 -0.000261  0.007021 -0.007580  0.126405  \n",
            "V13 -0.001882 -0.002112 -0.001993 -0.001064  0.007712  0.001035 -0.063595  \n",
            "V14 -0.004254  0.004171 -0.001902  0.001947  0.001494  0.033107 -0.104093  \n",
            "V15  0.000642  0.000280  0.001081 -0.002872  0.010331 -0.003503 -0.181832  \n",
            "V16  0.000735 -0.004086  0.001122 -0.008073  0.016978 -0.004419  0.012150  \n",
            "V17 -0.002260 -0.004748  0.001256 -0.002218 -0.003540  0.011952 -0.080489  \n",
            "V18 -0.001614  0.001884 -0.000001 -0.004221  0.000518  0.033585  0.089812  \n",
            "V19  0.001900  0.000290  0.001928 -0.006113  0.013287 -0.051163  0.030244  \n",
            "V20 -0.002105  0.013497 -0.000066  0.030510 -0.065891  0.348219 -0.049359  \n",
            "V21  0.003217  0.008225  0.001941  0.006291 -0.031159  0.114076  0.046886  \n",
            "V22  0.001556  0.002036 -0.003430 -0.006681  0.002792 -0.065640  0.144250  \n",
            "V23 -0.007131  0.007478  0.001616 -0.033673  0.002355 -0.109790  0.050357  \n",
            "V24  1.000000 -0.000471  0.003388 -0.000067  0.008187  0.004653 -0.015530  \n",
            "V25 -0.000471  1.000000  0.002175 -0.016789  0.015340 -0.048192 -0.231473  \n",
            "V26  0.003388  0.002175  1.000000 -0.007480 -0.001379 -0.004199 -0.042956  \n",
            "V27 -0.000067 -0.016789 -0.007480  1.000000 -0.021681  0.013899 -0.004600  \n",
            "V28  0.008187  0.015340 -0.001379 -0.021681  1.000000  0.021446 -0.007932  \n",
            "V29  0.004653 -0.048192 -0.004199  0.013899  0.021446  1.000000 -0.012268  \n",
            "V30 -0.015530 -0.231473 -0.042956 -0.004600 -0.007932 -0.012268  1.000000  \n",
            "\n",
            "[31 rows x 31 columns]\n"
          ]
        }
      ],
      "source": [
        "corr = train_df.corr(method = 'pearson')\n",
        "print(corr)"
      ]
    },
    {
      "cell_type": "code",
      "execution_count": 14,
      "metadata": {},
      "outputs": [],
      "source": [
        "corr.to_csv('Data\\\\Feature Correlation_train.csv')"
      ]
    },
    {
      "cell_type": "code",
      "execution_count": null,
      "metadata": {},
      "outputs": [],
      "source": [
        "corr.loc[corr['']]"
      ]
    }
  ],
  "metadata": {
    "colab": {
      "authorship_tag": "ABX9TyPItu/uAbN/zRJMze42TRMk",
      "include_colab_link": true,
      "mount_file_id": "1bHpiOMhrra3SyfK_zEM1kpM8fslpGbvA",
      "name": "EDA.ipynb",
      "private_outputs": true,
      "provenance": []
    },
    "kernelspec": {
      "display_name": "Python 3.7.13 ('deeplearning')",
      "language": "python",
      "name": "python3"
    },
    "language_info": {
      "codemirror_mode": {
        "name": "ipython",
        "version": 3
      },
      "file_extension": ".py",
      "mimetype": "text/x-python",
      "name": "python",
      "nbconvert_exporter": "python",
      "pygments_lexer": "ipython3",
      "version": "3.7.13"
    },
    "vscode": {
      "interpreter": {
        "hash": "33bb709aa52d0f1c012e153b74c2c585d1723b1d162db1a778a7381b9d9efdce"
      }
    }
  },
  "nbformat": 4,
  "nbformat_minor": 0
}
