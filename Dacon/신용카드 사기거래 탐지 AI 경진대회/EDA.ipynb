{
  "nbformat": 4,
  "nbformat_minor": 0,
  "metadata": {
    "colab": {
      "name": "EDA.ipynb",
      "private_outputs": true,
      "provenance": [],
      "mount_file_id": "1bHpiOMhrra3SyfK_zEM1kpM8fslpGbvA",
      "authorship_tag": "ABX9TyPItu/uAbN/zRJMze42TRMk",
      "include_colab_link": true
    },
    "kernelspec": {
      "name": "python3",
      "display_name": "Python 3"
    },
    "language_info": {
      "name": "python"
    }
  },
  "cells": [
    {
      "cell_type": "markdown",
      "metadata": {
        "id": "view-in-github",
        "colab_type": "text"
      },
      "source": [
        "<a href=\"https://colab.research.google.com/github/babypotatotang/Tobigs/blob/main/Dacon/%EC%8B%A0%EC%9A%A9%EC%B9%B4%EB%93%9C%20%EC%82%AC%EA%B8%B0%EA%B1%B0%EB%9E%98%20%ED%83%90%EC%A7%80%20AI%20%EA%B2%BD%EC%A7%84%EB%8C%80%ED%9A%8C/EDA.ipynb\" target=\"_parent\"><img src=\"https://colab.research.google.com/assets/colab-badge.svg\" alt=\"Open In Colab\"/></a>"
      ]
    },
    {
      "cell_type": "markdown",
      "source": [
        "## **Settings**"
      ],
      "metadata": {
        "id": "xjmPyryY2ZrC"
      }
    },
    {
      "cell_type": "code",
      "source": [
        "import pandas as pd\n",
        "import numpy as np\n",
        "\n",
        "import matplotlib.pyplot as plt\n",
        "import seaborn as sns"
      ],
      "metadata": {
        "id": "_EB8bCGF3QIp"
      },
      "execution_count": null,
      "outputs": []
    },
    {
      "cell_type": "code",
      "source": [
        "import os, sys\n",
        "from google.colab import drive\n",
        "drive.mount('/content/drive')"
      ],
      "metadata": {
        "id": "R8AAmfax2cfL"
      },
      "execution_count": null,
      "outputs": []
    },
    {
      "cell_type": "code",
      "source": [
        "%cd '/content/drive/MyDrive/Colab Notebooks/신용카드 사기 거래 탐지 AI'\n",
        "\n",
        "train_df = pd.read_csv('train.csv',index_col=0)\n",
        "val_df = pd.read_csv('val.csv',index_col=0)\n",
        "\n",
        "print(train_df.shape)\n",
        "print(val_df.shape) "
      ],
      "metadata": {
        "id": "YfPglXWs3N_Q"
      },
      "execution_count": null,
      "outputs": []
    },
    {
      "cell_type": "markdown",
      "source": [
        "* Val에는 class column이 있어서 31개 shape을 가짐"
      ],
      "metadata": {
        "id": "FKzud7_03_Y8"
      }
    },
    {
      "cell_type": "markdown",
      "source": [
        "## **Statistics**\n",
        "* 표준화데이터 아님.\n",
        "* train과 val 모두 변수 V29가 180으로 다른 변수들 보다 값이 높음. "
      ],
      "metadata": {
        "id": "xzdufFGh4KTm"
      }
    },
    {
      "cell_type": "code",
      "source": [
        "train_df.describe()"
      ],
      "metadata": {
        "id": "odACCr1c4Iqz"
      },
      "execution_count": null,
      "outputs": []
    },
    {
      "cell_type": "code",
      "source": [
        "val_df.describe()"
      ],
      "metadata": {
        "id": "nmeiEQ6_4Z6r"
      },
      "execution_count": null,
      "outputs": []
    },
    {
      "cell_type": "code",
      "source": [
        "val_normal, val_fraud = val_df['Class'].value_counts()\n",
        "val_contamination = val_fraud / val_normal\n",
        "print(f'Validation contamination : [{val_contamination}]')"
      ],
      "metadata": {
        "id": "Dg9YK8sz477q"
      },
      "execution_count": null,
      "outputs": []
    },
    {
      "cell_type": "markdown",
      "source": [
        "## **Correlation**\n",
        "### **Train**\n",
        "* V29와 V30외에는 뚜렷한 상관성을 파악하지 못했음."
      ],
      "metadata": {
        "id": "ICsBUwDh5NuE"
      }
    },
    {
      "cell_type": "code",
      "source": [
        "MatCor = train_df.corr()\n",
        "sns.heatmap(MatCor)"
      ],
      "metadata": {
        "id": "3dt7W8NI5RBa"
      },
      "execution_count": null,
      "outputs": []
    },
    {
      "cell_type": "markdown",
      "source": [
        "## **Val**\n",
        "* Validation Dataset의 경우 fraud normal을 나누어서 상관성 분석\n",
        "* normal\n",
        "    * train set와 유사한 결과\n",
        "    * 각 변수 별 유의미한 상관성 파악 x\n",
        "* fraud\n",
        "    * 변수별로 강한 상관관계를 가짐 \n",
        "        * V2, V4, V16 등 \n",
        "        * pca 성분 추출? \n",
        "        * clustering? "
      ],
      "metadata": {
        "id": "8Va9IPNZ6QGn"
      }
    },
    {
      "cell_type": "code",
      "source": [
        "# fraud 와 normal 나누기\n",
        "Groups = val_df.groupby(val_df.Class)\n",
        "val_fraud = Groups.get_group(1)\n",
        "val_normal = Groups.get_group(0)"
      ],
      "metadata": {
        "id": "5_SUUBgr6dhz"
      },
      "execution_count": null,
      "outputs": []
    },
    {
      "cell_type": "code",
      "source": [
        "# normal\n",
        "sns.heatmap(val_normal.corr())"
      ],
      "metadata": {
        "id": "a8v0jQ1T7tOT"
      },
      "execution_count": null,
      "outputs": []
    },
    {
      "cell_type": "code",
      "source": [
        "# fraud \n",
        "sns.heatmap(val_fraud.corr())"
      ],
      "metadata": {
        "id": "3soXerwm75y8"
      },
      "execution_count": null,
      "outputs": []
    }
  ]
}