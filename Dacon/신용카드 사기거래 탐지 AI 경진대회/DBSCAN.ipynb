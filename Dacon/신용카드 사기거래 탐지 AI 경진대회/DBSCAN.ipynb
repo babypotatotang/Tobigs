{
 "cells": [
  {
   "cell_type": "markdown",
   "metadata": {
    "id": "5B5dx5u3e8mK"
   },
   "source": [
    "## **DBSCAN (밀도 기반 데이터 클러스터링 알고리즘)**\n",
    "* refer\n",
    "    * https://jhryu1208.github.io/data/2020/12/26/ML_DBSCAN/\n",
    "    * https://todayisbetterthanyesterday.tistory.com/62"
   ]
  },
  {
   "cell_type": "code",
   "execution_count": null,
   "metadata": {
    "id": "5gBQTheWgnUm"
   },
   "outputs": [],
   "source": [
    "import pandas as pd\n",
    "import numpy as np\n",
    "\n",
    "import mglearn\n",
    "\n",
    "import matplotlib.pyplot  as plt\n",
    "import seaborn as sns\n",
    "\n",
    "from sklearn.cluster import DBSCAN\n",
    "from sklearn.preprocessing import StandardScaler"
   ]
  },
  {
   "cell_type": "code",
   "execution_count": null,
   "metadata": {
    "id": "SFot6rmChAMH"
   },
   "outputs": [],
   "source": [
    "# %cd '/content/drive/MyDrive/Colab Notebooks/신용카드 사기 거래 탐지 AI'\n",
    "\n",
    "train_df = pd.read_csv('D:\\\\2022\\\\Tobigs\\\\Dacon\\\\신용카드 사기거래 탐지 AI 경진대회\\\\Data\\\\train.csv')\n",
    "train_x = train_df.drop(columns = ['ID'])\n",
    "\n",
    "val_df = pd.read_csv('D:\\\\2022\\\\Tobigs\\\\Dacon\\\\신용카드 사기거래 탐지 AI 경진대회\\\\Data\\\\val.csv',index_col=0)\n",
    "val_x = val_df.drop(['Class'],axis=1)\n",
    "val_y = val_df.loc[:,'Class'].copy()"
   ]
  },
  {
   "cell_type": "code",
   "execution_count": null,
   "metadata": {
    "id": "FeWJbKY5gp6g"
   },
   "outputs": [],
   "source": [
    "scaler = StandardScaler()\n",
    "scaler.fit(train_x)\n",
    "train_x_scaled = scaler.transform(train_x)"
   ]
  },
  {
   "cell_type": "markdown",
   "metadata": {
    "id": "kHDFGAz4Gag2"
   },
   "source": [
    "### **DBSCAN Optimization(1)** \n",
    "* refer : https://medium.com/@tarammullin/dbscan-parameter-estimation-ff8330e3a3bd\n",
    "* eps = 5 / elbow point 참고\n",
    "* min_samples 는 2*dimension해서 60 \n",
    "* val f1 score: 0.5122171775177662 (eps 5, min 60)\n",
    "\n",
    "* eps 정할때 실루엣 score 구하기 \n",
    "* [4,4.5,5,5.5,6,6.5,7,7.5]"
   ]
  },
  {
   "cell_type": "markdown",
   "metadata": {},
   "source": [
    "### **DBSCAN Optimization (2)**\n",
    "* refer : https://medium.com/@mohantysandip/a-step-by-step-approach-to-solve-dbscan-algorithms-by-tuning-its-hyper-parameters-93e693a91289"
   ]
  },
  {
   "cell_type": "markdown",
   "metadata": {
    "id": "NIKy0UUQIJP9"
   },
   "source": [
    "#### **Import Library**"
   ]
  },
  {
   "cell_type": "code",
   "execution_count": null,
   "metadata": {
    "id": "85LUDn-rGX_7"
   },
   "outputs": [],
   "source": [
    "from sklearn.neighbors import NearestNeighbors"
   ]
  },
  {
   "cell_type": "markdown",
   "metadata": {
    "id": "3LQ5mIxJIMTB"
   },
   "source": [
    "#### **Caculate the average distance**\n",
    "* Calculate the distance between each point in the data set\n",
    "* MinPts Value를 따라서 (2*dim)"
   ]
  },
  {
   "cell_type": "code",
   "execution_count": null,
   "metadata": {
    "id": "Ukvc3IUYGla0"
   },
   "outputs": [],
   "source": [
    "# 8분 소요 \n",
    "neighbors = NearestNeighbors(n_neighbors=60)\n",
    "neighbors_fit = neighbors.fit(train_x_scaled)\n",
    "distances,indices = neighbors_fit.kneighbors(train_x_scaled)"
   ]
  },
  {
   "cell_type": "markdown",
   "metadata": {
    "id": "c-w0lUWpIa98"
   },
   "source": [
    "#### **Sort Distance**"
   ]
  },
  {
   "cell_type": "code",
   "execution_count": null,
   "metadata": {
    "id": "wXlRa9pqIfXf"
   },
   "outputs": [
    {
     "data": {
      "text/plain": [
       "[<matplotlib.lines.Line2D at 0x20dc273c408>]"
      ]
     },
     "metadata": {},
     "output_type": "display_data"
    },
    {
     "data": {
      "image/png": "[encoded data removed]",
      "text/plain": [
       "<Figure size 432x288 with 1 Axes>"
      ]
     },
     "metadata": {},
     "output_type": "display_data"
    }
   ],
   "source": [
    "distances = np.sort(distances, axis=0)\n",
    "distances = distances[:,1]\n",
    "plt.plot(distances) # 미리 보기 "
   ]
  },
  {
   "cell_type": "code",
   "execution_count": null,
   "metadata": {
    "id": "pG2bRsHqJe7f"
   },
   "outputs": [
    {
     "data": {
      "text/plain": [
       "[<matplotlib.lines.Line2D at 0x20dc40a8bc8>]"
      ]
     },
     "metadata": {},
     "output_type": "display_data"
    },
    {
     "data": {
      "image/png": "[encoded data removed]",
      "text/plain": [
       "<Figure size 432x288 with 1 Axes>"
      ]
     },
     "metadata": {},
     "output_type": "display_data"
    }
   ],
   "source": [
    "plt.axis([110000,115000,4,7]) # plt 볼 범위 설정 \n",
    "plt.grid() # 격자 설정 \n",
    "plt.plot(distances)"
   ]
  },
  {
   "cell_type": "markdown",
   "metadata": {},
   "source": [
    "#### **Import Libraries**"
   ]
  },
  {
   "cell_type": "code",
   "execution_count": null,
   "metadata": {},
   "outputs": [],
   "source": [
    "from sklearn.metrics import silhouette_samples, silhouette_score\n",
    "from sklearn.cluster import KMeans"
   ]
  },
  {
   "cell_type": "markdown",
   "metadata": {},
   "source": [
    "#### **Find the ideal no.of cluster**\n",
    "* 이 케이스의 경우 정상 or 사기이므로 2개 \n",
    "* silhouette_avg 는 0.6479"
   ]
  },
  {
   "cell_type": "code",
   "execution_count": null,
   "metadata": {},
   "outputs": [],
   "source": [
    "# 클러스터 개수 정하기\n",
    "# 이 케이스의 경우 정상 or 사기이므로 2개 \n",
    "# silhouette_avg는 0.6479 \n",
    "clusterer  = KMeans(n_clusters=2, random_state=10)\n",
    "clusterer_labels = clusterer.fit_predict(val_df)\n",
    "silhouette_avg = silhouette_score(val_df,clusterer_labels)\n",
    "print(silhouette_avg)"
   ]
  },
  {
   "cell_type": "markdown",
   "metadata": {},
   "source": [
    "#### **Choose EPS value with silhoutte score**\n",
    "* The silhouette value is a measure of how similar an object is to its own cluster (cohesion) compared to other clusters (separation)"
   ]
  },
  {
   "cell_type": "code",
   "execution_count": null,
   "metadata": {},
   "outputs": [],
   "source": [
    "from sklearn.metrics import silhouette_samples, silhouette_score\n",
    "from sklearn.cluster import KMeans"
   ]
  },
  {
   "cell_type": "code",
   "execution_count": null,
   "metadata": {},
   "outputs": [
    {
     "name": "stdout",
     "output_type": "stream",
     "text": [
      "eps value is 4.0\n",
      "{0, -1}\n",
      "For eps Value =4.0 [ 0  0  0 ...  0  0 -1] The average silhouette_score is : 0.45927456920500026\n",
      "eps value is 4.5\n",
      "{0, -1}\n",
      "For eps Value =4.5 [ 0  0  0 ...  0  0 -1] The average silhouette_score is : 0.5278972278923585\n",
      "eps value is 5.0\n",
      "{0, -1}\n",
      "For eps Value =5.0 [ 0  0  0 ...  0  0 -1] The average silhouette_score is : 0.5827894731846893\n",
      "eps value is 5.5\n",
      "{0, -1}\n",
      "For eps Value =5.5 [ 0  0  0 ...  0  0 -1] The average silhouette_score is : 0.6255837664194999\n",
      "eps value is 6.0\n"
     ]
    }
   ],
   "source": [
    "# 약 80분 -> 너무 길어서 나눠서 함 (4 - 5.5)\n",
    "range_eps = [x / 10.0 for x in range(40, 80, 5)]\n",
    "for i in range_eps:\n",
    "\tprint(\"eps value is \"+str(i))\n",
    "\tdb = DBSCAN(eps = i, min_samples = 60).fit(train_x_scaled)\n",
    "\tcore_samples_mask = np.zeros_like(db.labels_,dtype = bool)\n",
    "\tcore_samples_mask[db.core_sample_indices_] = True\n",
    "\tlabels = db.labels_\n",
    "\tprint(set(labels))\n",
    "\tsilhouette_avg = silhouette_score(train_x_scaled, labels)\n",
    "\tprint(\"For eps Value =\"+str(i),labels,\"The average silhouette_score is :\",silhouette_avg)\n",
    "\n",
    "# eps value is 4.0\n",
    "# {0, -1}\n",
    "# For eps Value =4.0 [ 0  0  0 ...  0  0 -1] The average silhouette_score is : 0.45927456920500026\n",
    "# eps value is 4.5\n",
    "# {0, -1}\n",
    "# For eps Value =4.5 [ 0  0  0 ...  0  0 -1] The average silhouette_score is : 0.5278972278923585\n",
    "# eps value is 5.0\n",
    "# {0, -1}\n",
    "# For eps Value =5.0 [ 0  0  0 ...  0  0 -1] The average silhouette_score is : 0.5827894731846893\n",
    "# eps value is 5.5\n",
    "# {0, -1}range_eps = [x / 10.0 for x in range(60, 80, 5)]\n",
    "# For eps Value =5.5 [ 0  0  0 ...  0  0 -1] The average silhouette_score is : 0.6255837664194999\n",
    "# eps value is 6.0"
   ]
  },
  {
   "cell_type": "code",
   "execution_count": null,
   "metadata": {},
   "outputs": [
    {
     "name": "stdout",
     "output_type": "stream",
     "text": [
      "eps value is 6.0\n"
     ]
    }
   ],
   "source": [
    "range_eps = [x / 10.0 for x in range(60, 80, 5)]\n",
    "for i in range_eps:\n",
    "\tprint(\"eps value is \"+str(i))\n",
    "\tdb = DBSCAN(eps = i, min_samples = 60).fit(train_x_scaled)\n",
    "\tcore_samples_mask = np.zeros_like(db.labels_,dtype = bool)\n",
    "\tcore_samples_mask[db.core_sample_indices_] = True\n",
    "\tlabels = db.labels_\n",
    "\tprint(set(labels))\n",
    "\tsilhouette_avg = silhouette_score(train_x_scaled, labels)\n",
    "\tprint(\"For eps Value =\"+str(i),labels,\"The average silhouette_score is :\",silhouette_avg)"
   ]
  },
  {
   "cell_type": "markdown",
   "metadata": {
    "id": "m9bj2AFXI-y2"
   },
   "source": [
    "### **DBSCAN 돌리기**\n",
    "* hyperparameter에서 6에 가까운 값이 나옴 (elbow point)\n",
    "* eps 값을 6으로 설정하여 dbscan 돌리기 \n",
    "* (추가) elbow point: "
   ]
  },
  {
   "cell_type": "code",
   "execution_count": null,
   "metadata": {
    "id": "l3wjr4kshy7o"
   },
   "outputs": [],
   "source": [
    "# 13분 소요 (5)\n",
    "dbscan = DBSCAN(eps = 5, min_samples=60)\n",
    "clusters = dbscan.fit_predict(train_x_scaled)"
   ]
  },
  {
   "cell_type": "code",
   "execution_count": null,
   "metadata": {},
   "outputs": [],
   "source": [
    "# 16분 소요 (5.5)\n",
    "dbscan = DBSCAN(eps = 5.5, min_samples=60)\n",
    "clusters = dbscan.fit_predict(train_x_scaled)"
   ]
  },
  {
   "cell_type": "code",
   "execution_count": null,
   "metadata": {
    "id": "r-9pVk7XNZzk"
   },
   "outputs": [
    {
     "data": {
      "text/plain": [
       "Text(0, 0.5, '특성 1')"
      ]
     },
     "metadata": {},
     "output_type": "display_data"
    },
    {
     "name": "stderr",
     "output_type": "stream",
     "text": [
      "c:\\Users\\gwons\\anaconda3\\envs\\deeplearning\\lib\\site-packages\\IPython\\core\\pylabtools.py:151: UserWarning: Glyph 53945 (\\N{HANGUL SYLLABLE TEUG}) missing from current font.\n",
      "  fig.canvas.print_figure(bytes_io, **kw)\n",
      "c:\\Users\\gwons\\anaconda3\\envs\\deeplearning\\lib\\site-packages\\IPython\\core\\pylabtools.py:151: UserWarning: Glyph 49457 (\\N{HANGUL SYLLABLE SEONG}) missing from current font.\n",
      "  fig.canvas.print_figure(bytes_io, **kw)\n"
     ]
    },
    {
     "data": {
      "image/png": "[encoded data removed]",
      "text/plain": [
       "<Figure size 432x288 with 1 Axes>"
      ]
     },
     "metadata": {},
     "output_type": "display_data"
    }
   ],
   "source": [
    "import mglearn\n",
    "\n",
    "plt.scatter(train_x_scaled[:, 0], train_x_scaled[:, 1], c=clusters, cmap=mglearn.cm2, s=60, edgecolors='black')\n",
    "plt.xlabel(\"특성 0\")\n",
    "plt.ylabel(\"특성 1\")"
   ]
  },
  {
   "cell_type": "code",
   "execution_count": null,
   "metadata": {
    "id": "j1lHzAnAkbWo"
   },
   "outputs": [],
   "source": [
    "def get_pred_label(model_pred):\n",
    "    model_pred = np.where(model_pred == 0, 0, model_pred) # 정상 \n",
    "    model_pred = np.where(model_pred == -1,1, model_pred) # 사기\n",
    "\n",
    "    return model_pred"
   ]
  },
  {
   "cell_type": "code",
   "execution_count": null,
   "metadata": {
    "id": "UCdjHHxbsLCB"
   },
   "outputs": [],
   "source": [
    "scaler = StandardScaler()\n",
    "scaler.fit(val_x)\n",
    "val_x_scaled = scaler.transform(val_x)"
   ]
  },
  {
   "cell_type": "code",
   "execution_count": null,
   "metadata": {
    "id": "RfeWOyPCkKR5"
   },
   "outputs": [],
   "source": [
    "from sklearn.metrics import f1_score\n",
    "\n",
    "val_pred = dbscan.fit_predict(val_x)"
   ]
  },
  {
   "cell_type": "code",
   "execution_count": null,
   "metadata": {},
   "outputs": [],
   "source": [
    "# import numpy as np\n",
    "\n",
    "# np.set_printoptions(threshold=sys.maxsize)\n",
    "# print(val_pred)"
   ]
  },
  {
   "cell_type": "code",
   "execution_count": null,
   "metadata": {},
   "outputs": [
    {
     "name": "stdout",
     "output_type": "stream",
     "text": [
      "Validation F1 Score : [0.5204716716451692]\n"
     ]
    }
   ],
   "source": [
    "import numpy as np \n",
    "\n",
    "val_pred = get_pred_label(val_pred)\n",
    "val_score = f1_score(val_y,val_pred,average='macro')\n",
    "print(f'Validation F1 Score : [{val_score}]')"
   ]
  },
  {
   "cell_type": "code",
   "execution_count": null,
   "metadata": {},
   "outputs": [
    {
     "data": {
      "text/html": [
       "<div>\n",
       "<style scoped>\n",
       "    .dataframe tbody tr th:only-of-type {\n",
       "        vertical-align: middle;\n",
       "    }\n",
       "\n",
       "    .dataframe tbody tr th {\n",
       "        vertical-align: top;\n",
       "    }\n",
       "\n",
       "    .dataframe thead th {\n",
       "        text-align: right;\n",
       "    }\n",
       "</style>\n",
       "<table border=\"1\" class=\"dataframe\">\n",
       "  <thead>\n",
       "    <tr style=\"text-align: right;\">\n",
       "      <th></th>\n",
       "      <th>ID</th>\n",
       "      <th>V1</th>\n",
       "      <th>V2</th>\n",
       "      <th>V3</th>\n",
       "      <th>V4</th>\n",
       "      <th>V5</th>\n",
       "      <th>V6</th>\n",
       "      <th>V7</th>\n",
       "      <th>V8</th>\n",
       "      <th>V9</th>\n",
       "      <th>...</th>\n",
       "      <th>V21</th>\n",
       "      <th>V22</th>\n",
       "      <th>V23</th>\n",
       "      <th>V24</th>\n",
       "      <th>V25</th>\n",
       "      <th>V26</th>\n",
       "      <th>V27</th>\n",
       "      <th>V28</th>\n",
       "      <th>V29</th>\n",
       "      <th>V30</th>\n",
       "    </tr>\n",
       "  </thead>\n",
       "  <tbody>\n",
       "    <tr>\n",
       "      <th>0</th>\n",
       "      <td>AAAA0x1</td>\n",
       "      <td>-1.359807</td>\n",
       "      <td>-0.072781</td>\n",
       "      <td>2.536347</td>\n",
       "      <td>1.378155</td>\n",
       "      <td>-0.338321</td>\n",
       "      <td>0.462388</td>\n",
       "      <td>0.239599</td>\n",
       "      <td>0.098698</td>\n",
       "      <td>0.363787</td>\n",
       "      <td>...</td>\n",
       "      <td>-0.018307</td>\n",
       "      <td>0.277838</td>\n",
       "      <td>-0.110474</td>\n",
       "      <td>0.066928</td>\n",
       "      <td>0.128539</td>\n",
       "      <td>-0.189115</td>\n",
       "      <td>0.133558</td>\n",
       "      <td>-0.021053</td>\n",
       "      <td>1.783274</td>\n",
       "      <td>-0.994983</td>\n",
       "    </tr>\n",
       "    <tr>\n",
       "      <th>1</th>\n",
       "      <td>AAAA0x2</td>\n",
       "      <td>1.191857</td>\n",
       "      <td>0.266151</td>\n",
       "      <td>0.166480</td>\n",
       "      <td>0.448154</td>\n",
       "      <td>0.060018</td>\n",
       "      <td>-0.082361</td>\n",
       "      <td>-0.078803</td>\n",
       "      <td>0.085102</td>\n",
       "      <td>-0.255425</td>\n",
       "      <td>...</td>\n",
       "      <td>-0.225775</td>\n",
       "      <td>-0.638672</td>\n",
       "      <td>0.101288</td>\n",
       "      <td>-0.339846</td>\n",
       "      <td>0.167170</td>\n",
       "      <td>0.125895</td>\n",
       "      <td>-0.008983</td>\n",
       "      <td>0.014724</td>\n",
       "      <td>-0.269825</td>\n",
       "      <td>-0.994983</td>\n",
       "    </tr>\n",
       "    <tr>\n",
       "      <th>2</th>\n",
       "      <td>AAAA0x5</td>\n",
       "      <td>-1.158233</td>\n",
       "      <td>0.877737</td>\n",
       "      <td>1.548718</td>\n",
       "      <td>0.403034</td>\n",
       "      <td>-0.407193</td>\n",
       "      <td>0.095921</td>\n",
       "      <td>0.592941</td>\n",
       "      <td>-0.270533</td>\n",
       "      <td>0.817739</td>\n",
       "      <td>...</td>\n",
       "      <td>-0.009431</td>\n",
       "      <td>0.798278</td>\n",
       "      <td>-0.137458</td>\n",
       "      <td>0.141267</td>\n",
       "      <td>-0.206010</td>\n",
       "      <td>0.502292</td>\n",
       "      <td>0.219422</td>\n",
       "      <td>0.215153</td>\n",
       "      <td>0.670579</td>\n",
       "      <td>-0.994960</td>\n",
       "    </tr>\n",
       "    <tr>\n",
       "      <th>3</th>\n",
       "      <td>AAAA0x7</td>\n",
       "      <td>1.229658</td>\n",
       "      <td>0.141004</td>\n",
       "      <td>0.045371</td>\n",
       "      <td>1.202613</td>\n",
       "      <td>0.191881</td>\n",
       "      <td>0.272708</td>\n",
       "      <td>-0.005159</td>\n",
       "      <td>0.081213</td>\n",
       "      <td>0.464960</td>\n",
       "      <td>...</td>\n",
       "      <td>-0.167716</td>\n",
       "      <td>-0.270710</td>\n",
       "      <td>-0.154104</td>\n",
       "      <td>-0.780055</td>\n",
       "      <td>0.750137</td>\n",
       "      <td>-0.257237</td>\n",
       "      <td>0.034507</td>\n",
       "      <td>0.005168</td>\n",
       "      <td>-0.237686</td>\n",
       "      <td>-0.994937</td>\n",
       "    </tr>\n",
       "    <tr>\n",
       "      <th>4</th>\n",
       "      <td>AAAA0xc</td>\n",
       "      <td>0.384978</td>\n",
       "      <td>0.616109</td>\n",
       "      <td>-0.874300</td>\n",
       "      <td>-0.094019</td>\n",
       "      <td>2.924584</td>\n",
       "      <td>3.317027</td>\n",
       "      <td>0.470455</td>\n",
       "      <td>0.538247</td>\n",
       "      <td>-0.558895</td>\n",
       "      <td>...</td>\n",
       "      <td>0.049924</td>\n",
       "      <td>0.238422</td>\n",
       "      <td>0.009130</td>\n",
       "      <td>0.996710</td>\n",
       "      <td>-0.767315</td>\n",
       "      <td>-0.492208</td>\n",
       "      <td>0.042472</td>\n",
       "      <td>-0.054337</td>\n",
       "      <td>-0.167819</td>\n",
       "      <td>-0.994866</td>\n",
       "    </tr>\n",
       "  </tbody>\n",
       "</table>\n",
       "<p>5 rows × 31 columns</p>\n",
       "</div>"
      ],
      "text/plain": [
       "        ID        V1        V2        V3        V4        V5        V6  \\\n",
       "0  AAAA0x1 -1.359807 -0.072781  2.536347  1.378155 -0.338321  0.462388   \n",
       "1  AAAA0x2  1.191857  0.266151  0.166480  0.448154  0.060018 -0.082361   \n",
       "2  AAAA0x5 -1.158233  0.877737  1.548718  0.403034 -0.407193  0.095921   \n",
       "3  AAAA0x7  1.229658  0.141004  0.045371  1.202613  0.191881  0.272708   \n",
       "4  AAAA0xc  0.384978  0.616109 -0.874300 -0.094019  2.924584  3.317027   \n",
       "\n",
       "         V7        V8        V9  ...       V21       V22       V23       V24  \\\n",
       "0  0.239599  0.098698  0.363787  ... -0.018307  0.277838 -0.110474  0.066928   \n",
       "1 -0.078803  0.085102 -0.255425  ... -0.225775 -0.638672  0.101288 -0.339846   \n",
       "2  0.592941 -0.270533  0.817739  ... -0.009431  0.798278 -0.137458  0.141267   \n",
       "3 -0.005159  0.081213  0.464960  ... -0.167716 -0.270710 -0.154104 -0.780055   \n",
       "4  0.470455  0.538247 -0.558895  ...  0.049924  0.238422  0.009130  0.996710   \n",
       "\n",
       "        V25       V26       V27       V28       V29       V30  \n",
       "0  0.128539 -0.189115  0.133558 -0.021053  1.783274 -0.994983  \n",
       "1  0.167170  0.125895 -0.008983  0.014724 -0.269825 -0.994983  \n",
       "2 -0.206010  0.502292  0.219422  0.215153  0.670579 -0.994960  \n",
       "3  0.750137 -0.257237  0.034507  0.005168 -0.237686 -0.994937  \n",
       "4 -0.767315 -0.492208  0.042472 -0.054337 -0.167819 -0.994866  \n",
       "\n",
       "[5 rows x 31 columns]"
      ]
     },
     "metadata": {},
     "output_type": "display_data"
    }
   ],
   "source": [
    "test_df = pd.read_csv('D:\\\\2022\\\\Tobigs\\\\Dacon\\\\신용카드 사기거래 탐지 AI 경진대회\\\\Data\\\\test.csv')\n",
    "test_df.head()"
   ]
  },
  {
   "cell_type": "code",
   "execution_count": null,
   "metadata": {},
   "outputs": [],
   "source": [
    "test_x = test_df.drop(columns=['ID'])"
   ]
  },
  {
   "cell_type": "code",
   "execution_count": null,
   "metadata": {},
   "outputs": [],
   "source": [
    "test_scaled = scaler.fit_transform(test_x)\n",
    "test_x = pd.DataFrame(test_scaled, columns = test_x.columns, index=list(test_x.index.values))"
   ]
  },
  {
   "cell_type": "code",
   "execution_count": null,
   "metadata": {},
   "outputs": [],
   "source": [
    "test_pred = dbscan.fit_predict(test_x) # model prediction\n",
    "test_pred = get_pred_label(test_pred)"
   ]
  },
  {
   "cell_type": "code",
   "execution_count": null,
   "metadata": {},
   "outputs": [],
   "source": [
    "submit = pd.read_csv('./sample_submission.csv')\n",
    "submit.head()"
   ]
  },
  {
   "cell_type": "code",
   "execution_count": null,
   "metadata": {},
   "outputs": [],
   "source": [
    "submit['Class'] = test_pred\n",
    "submit.to_csv('./submit.csv',index=False)"
   ]
  },
  {
   "cell_type": "code",
   "execution_count": null,
   "metadata": {},
   "outputs": [],
   "source": [
    "submit.head()"
   ]
  }
 ],
 "metadata": {
  "kernelspec": {
   "display_name": "Python 3.9.5 64-bit",
   "language": "python",
   "name": "python3"
  },
  "language_info": {
   "name": "python",
   "version": "3.9.5"
  },
  "orig_nbformat": 4,
  "vscode": {
   "interpreter": {
    "hash": "15d62748266f8ea3611532b4892b57da5cd2aa28e021beffc1d944f2abb52c0e"
   }
  }
 },
 "nbformat": 4,
 "nbformat_minor": 2
}
