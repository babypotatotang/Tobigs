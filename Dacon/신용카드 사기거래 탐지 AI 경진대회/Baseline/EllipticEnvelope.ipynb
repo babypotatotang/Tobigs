{
  "cells": [
    {
      "cell_type": "markdown",
      "id": "4d3a1d7a-cd78-4feb-a3fb-6616e9f4b1b6",
      "metadata": {
        "id": "4d3a1d7a-cd78-4feb-a3fb-6616e9f4b1b6"
      },
      "source": [
        "## Import"
      ]
    },
    {
      "cell_type": "code",
      "execution_count": 1,
      "id": "c2d64ba0-c815-400a-aaae-893b6a014460",
      "metadata": {
        "id": "c2d64ba0-c815-400a-aaae-893b6a014460"
      },
      "outputs": [],
      "source": [
        "import torch\n",
        "\n",
        "import pandas as pd\n",
        "import numpy as np\n",
        "\n",
        "from sklearn.covariance import EllipticEnvelope\n",
        "from sklearn.metrics import f1_score\n",
        "from sklearn.metrics import classification_report\n",
        "from sklearn.metrics import confusion_matrix\n",
        "\n",
        "import matplotlib.pyplot as plt\n",
        "\n",
        "import warnings\n",
        "warnings.filterwarnings(action='ignore')"
      ]
    },
    {
      "cell_type": "code",
      "execution_count": 2,
      "id": "sYEInBTnKqdG",
      "metadata": {
        "colab": {
          "base_uri": "https://localhost:8080/"
        },
        "id": "sYEInBTnKqdG",
        "outputId": "fc832af1-a21e-4414-ddc9-ba2b4d09fc34"
      },
      "outputs": [
        {
          "name": "stdout",
          "output_type": "stream",
          "text": [
            "Mounted at /content/drive\n"
          ]
        }
      ],
      "source": [
        "from google.colab import drive\n",
        "drive.mount('/content/drive')"
      ]
    },
    {
      "cell_type": "markdown",
      "id": "61089ab8-281f-46d4-a800-d42322ce0f02",
      "metadata": {
        "id": "61089ab8-281f-46d4-a800-d42322ce0f02"
      },
      "source": [
        "## Data Load"
      ]
    },
    {
      "cell_type": "code",
      "execution_count": 2,
      "id": "6b4a6c59",
      "metadata": {},
      "outputs": [],
      "source": [
        "home = 'D:\\\\2022\\\\Tobigs\\\\Dacon\\\\신용카드 사기거래 탐지 AI 경진대회\\\\Data\\\\'"
      ]
    },
    {
      "cell_type": "code",
      "execution_count": 3,
      "id": "69de7c03-40b8-4f19-8a04-a6b040ae0451",
      "metadata": {
        "id": "69de7c03-40b8-4f19-8a04-a6b040ae0451"
      },
      "outputs": [],
      "source": [
        "train_df = pd.read_csv(home+'train.csv') # Train\n",
        "val_df = pd.read_csv(home+'val.csv') # Validation"
      ]
    },
    {
      "cell_type": "markdown",
      "id": "58b756b1-798b-4136-89b3-ab0cd0a478ca",
      "metadata": {
        "id": "58b756b1-798b-4136-89b3-ab0cd0a478ca"
      },
      "source": [
        "## Validation set 사기 거래 비율\n",
        "#### (*) Validation set의 사기 거래 비율이 다른 데이터집합에서도 비슷하게 발생할 것이라고 가정"
      ]
    },
    {
      "cell_type": "code",
      "execution_count": 4,
      "id": "b87799db-e356-446c-929f-3800c5e04888",
      "metadata": {
        "colab": {
          "base_uri": "https://localhost:8080/"
        },
        "id": "b87799db-e356-446c-929f-3800c5e04888",
        "outputId": "7c42e2a0-48fa-4b62-fdac-960931341b87"
      },
      "outputs": [
        {
          "name": "stdout",
          "output_type": "stream",
          "text": [
            "Validation contamination : [0.0010551491277433877]\n"
          ]
        }
      ],
      "source": [
        "val_normal, val_fraud = val_df['Class'].value_counts()\n",
        "val_contamination = val_fraud / val_normal\n",
        "print(f'Validation contamination : [{val_contamination}]')"
      ]
    },
    {
      "cell_type": "markdown",
      "id": "6d24ae39-6313-4aaa-aacc-088858d13319",
      "metadata": {
        "id": "6d24ae39-6313-4aaa-aacc-088858d13319"
      },
      "source": [
        "## Model Define & Fit"
      ]
    },
    {
      "cell_type": "code",
      "execution_count": 5,
      "id": "fa12d84c-b285-4cdd-86ad-090c85e33cfe",
      "metadata": {
        "id": "fa12d84c-b285-4cdd-86ad-090c85e33cfe"
      },
      "outputs": [],
      "source": [
        "# Train dataset은 Label이 존재하지 않음\n",
        "train_x = train_df.drop(columns=['ID']) # Input Data"
      ]
    },
    {
      "cell_type": "code",
      "execution_count": 6,
      "id": "3ba756c8-b011-4b85-ac96-a482f1bfd74b",
      "metadata": {
        "colab": {
          "base_uri": "https://localhost:8080/"
        },
        "id": "3ba756c8-b011-4b85-ac96-a482f1bfd74b",
        "outputId": "4be4a174-6008-45ce-f20f-e4e358f12342"
      },
      "outputs": [
        {
          "data": {
            "text/plain": [
              "EllipticEnvelope(contamination=0.0010551491277433877, random_state=42,\n",
              "                 support_fraction=0.994)"
            ]
          },
          "execution_count": 6,
          "metadata": {},
          "output_type": "execute_result"
        }
      ],
      "source": [
        "# 가설 설정 : Train dataset도 Validation dataset과 동일한 비율로 사기거래가 발생 했을 것이다. -> model parameter : contamination=val_contamination(=0.001055) 적용\n",
        "model = EllipticEnvelope(support_fraction = 0.994, contamination = val_contamination, random_state = 42)\n",
        "model.fit(train_x)"
      ]
    },
    {
      "cell_type": "code",
      "execution_count": 7,
      "id": "xsLrrKTMqlZk",
      "metadata": {
        "colab": {
          "base_uri": "https://localhost:8080/"
        },
        "id": "xsLrrKTMqlZk",
        "outputId": "4300c1ce-84c3-4802-c448-3a4ec397ac65"
      },
      "outputs": [
        {
          "name": "stdout",
          "output_type": "stream",
          "text": [
            "Validation F1 Score : [0.9236496787663914]\n",
            "              precision    recall  f1-score   support\n",
            "\n",
            "           0       1.00      1.00      1.00     28432\n",
            "           1       0.86      0.83      0.85        30\n",
            "\n",
            "    accuracy                           1.00     28462\n",
            "   macro avg       0.93      0.92      0.92     28462\n",
            "weighted avg       1.00      1.00      1.00     28462\n",
            "\n",
            "tp :  25 , fp :  4 , tn :  28428 , fn :  5\n"
          ]
        }
      ],
      "source": [
        "def get_pred_label(model, x, k):\n",
        "  prob = model.score_samples(x)\n",
        "  prob = torch.tensor(prob, dtype = torch.float)\n",
        "  topk_indices = torch.topk(prob, k = k, largest = False).indices\n",
        "\n",
        "  pred = torch.zeros(len(x), dtype = torch.long)\n",
        "  pred[topk_indices] = 1\n",
        "  return pred.tolist(), prob.tolist()\n",
        "\n",
        "val_x = val_df.drop(columns=['ID', 'Class']) # Input Data\n",
        "val_y = val_df['Class'] # Label\n",
        "\n",
        "val_pred, val_prob = get_pred_label(model, val_x, 29)\n",
        "val_score = f1_score(val_y, val_pred, average='macro')\n",
        "print(f'Validation F1 Score : [{val_score}]')\n",
        "print(classification_report(val_y, val_pred))\n",
        "tn, fp, fn, tp = confusion_matrix(val_y, val_pred).ravel()\n",
        "print('tp : ', tp, ', fp : ', fp, ', tn : ', tn, ', fn : ', fn)"
      ]
    },
    {
      "cell_type": "markdown",
      "id": "d579d05d-71b1-4bae-a6d4-ab58f894262e",
      "metadata": {
        "id": "d579d05d-71b1-4bae-a6d4-ab58f894262e"
      },
      "source": [
        "## Inference : Test set"
      ]
    },
    {
      "cell_type": "code",
      "execution_count": 8,
      "id": "1b8e6fa7-9780-4f66-8493-f1c55c0f5991",
      "metadata": {
        "colab": {
          "base_uri": "https://localhost:8080/",
          "height": 299
        },
        "id": "1b8e6fa7-9780-4f66-8493-f1c55c0f5991",
        "outputId": "eadeff27-5fc1-431f-91b6-789f9b032b62"
      },
      "outputs": [
        {
          "data": {
            "text/html": [
              "<div>\n",
              "<style scoped>\n",
              "    .dataframe tbody tr th:only-of-type {\n",
              "        vertical-align: middle;\n",
              "    }\n",
              "\n",
              "    .dataframe tbody tr th {\n",
              "        vertical-align: top;\n",
              "    }\n",
              "\n",
              "    .dataframe thead th {\n",
              "        text-align: right;\n",
              "    }\n",
              "</style>\n",
              "<table border=\"1\" class=\"dataframe\">\n",
              "  <thead>\n",
              "    <tr style=\"text-align: right;\">\n",
              "      <th></th>\n",
              "      <th>ID</th>\n",
              "      <th>V1</th>\n",
              "      <th>V2</th>\n",
              "      <th>V3</th>\n",
              "      <th>V4</th>\n",
              "      <th>V5</th>\n",
              "      <th>V6</th>\n",
              "      <th>V7</th>\n",
              "      <th>V8</th>\n",
              "      <th>V9</th>\n",
              "      <th>...</th>\n",
              "      <th>V21</th>\n",
              "      <th>V22</th>\n",
              "      <th>V23</th>\n",
              "      <th>V24</th>\n",
              "      <th>V25</th>\n",
              "      <th>V26</th>\n",
              "      <th>V27</th>\n",
              "      <th>V28</th>\n",
              "      <th>V29</th>\n",
              "      <th>V30</th>\n",
              "    </tr>\n",
              "  </thead>\n",
              "  <tbody>\n",
              "    <tr>\n",
              "      <th>0</th>\n",
              "      <td>AAAA0x1</td>\n",
              "      <td>-1.359807</td>\n",
              "      <td>-0.072781</td>\n",
              "      <td>2.536347</td>\n",
              "      <td>1.378155</td>\n",
              "      <td>-0.338321</td>\n",
              "      <td>0.462388</td>\n",
              "      <td>0.239599</td>\n",
              "      <td>0.098698</td>\n",
              "      <td>0.363787</td>\n",
              "      <td>...</td>\n",
              "      <td>-0.018307</td>\n",
              "      <td>0.277838</td>\n",
              "      <td>-0.110474</td>\n",
              "      <td>0.066928</td>\n",
              "      <td>0.128539</td>\n",
              "      <td>-0.189115</td>\n",
              "      <td>0.133558</td>\n",
              "      <td>-0.021053</td>\n",
              "      <td>1.783274</td>\n",
              "      <td>-0.994983</td>\n",
              "    </tr>\n",
              "    <tr>\n",
              "      <th>1</th>\n",
              "      <td>AAAA0x2</td>\n",
              "      <td>1.191857</td>\n",
              "      <td>0.266151</td>\n",
              "      <td>0.166480</td>\n",
              "      <td>0.448154</td>\n",
              "      <td>0.060018</td>\n",
              "      <td>-0.082361</td>\n",
              "      <td>-0.078803</td>\n",
              "      <td>0.085102</td>\n",
              "      <td>-0.255425</td>\n",
              "      <td>...</td>\n",
              "      <td>-0.225775</td>\n",
              "      <td>-0.638672</td>\n",
              "      <td>0.101288</td>\n",
              "      <td>-0.339846</td>\n",
              "      <td>0.167170</td>\n",
              "      <td>0.125895</td>\n",
              "      <td>-0.008983</td>\n",
              "      <td>0.014724</td>\n",
              "      <td>-0.269825</td>\n",
              "      <td>-0.994983</td>\n",
              "    </tr>\n",
              "    <tr>\n",
              "      <th>2</th>\n",
              "      <td>AAAA0x5</td>\n",
              "      <td>-1.158233</td>\n",
              "      <td>0.877737</td>\n",
              "      <td>1.548718</td>\n",
              "      <td>0.403034</td>\n",
              "      <td>-0.407193</td>\n",
              "      <td>0.095921</td>\n",
              "      <td>0.592941</td>\n",
              "      <td>-0.270533</td>\n",
              "      <td>0.817739</td>\n",
              "      <td>...</td>\n",
              "      <td>-0.009431</td>\n",
              "      <td>0.798278</td>\n",
              "      <td>-0.137458</td>\n",
              "      <td>0.141267</td>\n",
              "      <td>-0.206010</td>\n",
              "      <td>0.502292</td>\n",
              "      <td>0.219422</td>\n",
              "      <td>0.215153</td>\n",
              "      <td>0.670579</td>\n",
              "      <td>-0.994960</td>\n",
              "    </tr>\n",
              "    <tr>\n",
              "      <th>3</th>\n",
              "      <td>AAAA0x7</td>\n",
              "      <td>1.229658</td>\n",
              "      <td>0.141004</td>\n",
              "      <td>0.045371</td>\n",
              "      <td>1.202613</td>\n",
              "      <td>0.191881</td>\n",
              "      <td>0.272708</td>\n",
              "      <td>-0.005159</td>\n",
              "      <td>0.081213</td>\n",
              "      <td>0.464960</td>\n",
              "      <td>...</td>\n",
              "      <td>-0.167716</td>\n",
              "      <td>-0.270710</td>\n",
              "      <td>-0.154104</td>\n",
              "      <td>-0.780055</td>\n",
              "      <td>0.750137</td>\n",
              "      <td>-0.257237</td>\n",
              "      <td>0.034507</td>\n",
              "      <td>0.005168</td>\n",
              "      <td>-0.237686</td>\n",
              "      <td>-0.994937</td>\n",
              "    </tr>\n",
              "    <tr>\n",
              "      <th>4</th>\n",
              "      <td>AAAA0xc</td>\n",
              "      <td>0.384978</td>\n",
              "      <td>0.616109</td>\n",
              "      <td>-0.874300</td>\n",
              "      <td>-0.094019</td>\n",
              "      <td>2.924584</td>\n",
              "      <td>3.317027</td>\n",
              "      <td>0.470455</td>\n",
              "      <td>0.538247</td>\n",
              "      <td>-0.558895</td>\n",
              "      <td>...</td>\n",
              "      <td>0.049924</td>\n",
              "      <td>0.238422</td>\n",
              "      <td>0.009130</td>\n",
              "      <td>0.996710</td>\n",
              "      <td>-0.767315</td>\n",
              "      <td>-0.492208</td>\n",
              "      <td>0.042472</td>\n",
              "      <td>-0.054337</td>\n",
              "      <td>-0.167819</td>\n",
              "      <td>-0.994866</td>\n",
              "    </tr>\n",
              "  </tbody>\n",
              "</table>\n",
              "<p>5 rows × 31 columns</p>\n",
              "</div>"
            ],
            "text/plain": [
              "        ID        V1        V2        V3        V4        V5        V6  \\\n",
              "0  AAAA0x1 -1.359807 -0.072781  2.536347  1.378155 -0.338321  0.462388   \n",
              "1  AAAA0x2  1.191857  0.266151  0.166480  0.448154  0.060018 -0.082361   \n",
              "2  AAAA0x5 -1.158233  0.877737  1.548718  0.403034 -0.407193  0.095921   \n",
              "3  AAAA0x7  1.229658  0.141004  0.045371  1.202613  0.191881  0.272708   \n",
              "4  AAAA0xc  0.384978  0.616109 -0.874300 -0.094019  2.924584  3.317027   \n",
              "\n",
              "         V7        V8        V9  ...       V21       V22       V23       V24  \\\n",
              "0  0.239599  0.098698  0.363787  ... -0.018307  0.277838 -0.110474  0.066928   \n",
              "1 -0.078803  0.085102 -0.255425  ... -0.225775 -0.638672  0.101288 -0.339846   \n",
              "2  0.592941 -0.270533  0.817739  ... -0.009431  0.798278 -0.137458  0.141267   \n",
              "3 -0.005159  0.081213  0.464960  ... -0.167716 -0.270710 -0.154104 -0.780055   \n",
              "4  0.470455  0.538247 -0.558895  ...  0.049924  0.238422  0.009130  0.996710   \n",
              "\n",
              "        V25       V26       V27       V28       V29       V30  \n",
              "0  0.128539 -0.189115  0.133558 -0.021053  1.783274 -0.994983  \n",
              "1  0.167170  0.125895 -0.008983  0.014724 -0.269825 -0.994983  \n",
              "2 -0.206010  0.502292  0.219422  0.215153  0.670579 -0.994960  \n",
              "3  0.750137 -0.257237  0.034507  0.005168 -0.237686 -0.994937  \n",
              "4 -0.767315 -0.492208  0.042472 -0.054337 -0.167819 -0.994866  \n",
              "\n",
              "[5 rows x 31 columns]"
            ]
          },
          "execution_count": 8,
          "metadata": {},
          "output_type": "execute_result"
        }
      ],
      "source": [
        "test_df = pd.read_csv(home+'test.csv') # Train\n",
        "test_df.head()"
      ]
    },
    {
      "cell_type": "code",
      "execution_count": 9,
      "id": "c7a3abf6-9fc6-4ba0-b28c-088687b29ba3",
      "metadata": {
        "id": "c7a3abf6-9fc6-4ba0-b28c-088687b29ba3"
      },
      "outputs": [],
      "source": [
        "test_x = test_df.drop(columns=['ID'])"
      ]
    },
    {
      "cell_type": "code",
      "execution_count": 10,
      "id": "DExRCfO1_8v_",
      "metadata": {
        "colab": {
          "base_uri": "https://localhost:8080/"
        },
        "id": "DExRCfO1_8v_",
        "outputId": "f6999adf-7e0b-4514-badc-d97b669012e2"
      },
      "outputs": [
        {
          "name": "stdout",
          "output_type": "stream",
          "text": [
            "n_fraud :  318\n"
          ]
        }
      ],
      "source": [
        "test_pred, _ = get_pred_label(model, test_x, 318)\n",
        "print('n_fraud : ', sum(test_pred))"
      ]
    },
    {
      "cell_type": "markdown",
      "id": "62892923-4157-48ba-9223-adcf567816c3",
      "metadata": {
        "id": "62892923-4157-48ba-9223-adcf567816c3"
      },
      "source": [
        "## Submission"
      ]
    },
    {
      "cell_type": "code",
      "execution_count": 12,
      "id": "c0f3c393-f839-44d4-93b1-e536a8973110",
      "metadata": {
        "colab": {
          "base_uri": "https://localhost:8080/",
          "height": 206
        },
        "id": "c0f3c393-f839-44d4-93b1-e536a8973110",
        "outputId": "cfa00bd7-19b5-4f22-b595-01ec81191da5"
      },
      "outputs": [
        {
          "data": {
            "text/html": [
              "<div>\n",
              "<style scoped>\n",
              "    .dataframe tbody tr th:only-of-type {\n",
              "        vertical-align: middle;\n",
              "    }\n",
              "\n",
              "    .dataframe tbody tr th {\n",
              "        vertical-align: top;\n",
              "    }\n",
              "\n",
              "    .dataframe thead th {\n",
              "        text-align: right;\n",
              "    }\n",
              "</style>\n",
              "<table border=\"1\" class=\"dataframe\">\n",
              "  <thead>\n",
              "    <tr style=\"text-align: right;\">\n",
              "      <th></th>\n",
              "      <th>ID</th>\n",
              "      <th>Class</th>\n",
              "    </tr>\n",
              "  </thead>\n",
              "  <tbody>\n",
              "    <tr>\n",
              "      <th>0</th>\n",
              "      <td>AAAA0x1</td>\n",
              "      <td>1</td>\n",
              "    </tr>\n",
              "    <tr>\n",
              "      <th>1</th>\n",
              "      <td>AAAA0x2</td>\n",
              "      <td>1</td>\n",
              "    </tr>\n",
              "    <tr>\n",
              "      <th>2</th>\n",
              "      <td>AAAA0x5</td>\n",
              "      <td>1</td>\n",
              "    </tr>\n",
              "    <tr>\n",
              "      <th>3</th>\n",
              "      <td>AAAA0x7</td>\n",
              "      <td>1</td>\n",
              "    </tr>\n",
              "    <tr>\n",
              "      <th>4</th>\n",
              "      <td>AAAA0xc</td>\n",
              "      <td>1</td>\n",
              "    </tr>\n",
              "  </tbody>\n",
              "</table>\n",
              "</div>"
            ],
            "text/plain": [
              "        ID  Class\n",
              "0  AAAA0x1      1\n",
              "1  AAAA0x2      1\n",
              "2  AAAA0x5      1\n",
              "3  AAAA0x7      1\n",
              "4  AAAA0xc      1"
            ]
          },
          "execution_count": 12,
          "metadata": {},
          "output_type": "execute_result"
        }
      ],
      "source": [
        "submit = pd.read_csv(home+'sample_submission.csv')\n",
        "submit.head()"
      ]
    },
    {
      "cell_type": "code",
      "execution_count": 14,
      "id": "f4846fb1-9558-4560-bae3-cbda4973ed04",
      "metadata": {
        "id": "f4846fb1-9558-4560-bae3-cbda4973ed04"
      },
      "outputs": [],
      "source": [
        "submit['Class'] = test_pred\n",
        "submit.to_csv(home+'submit_EllipticEnvelope.csv', index=False)"
      ]
    },
    {
      "cell_type": "code",
      "execution_count": 16,
      "id": "dpSncZyWajaQ",
      "metadata": {
        "colab": {
          "base_uri": "https://localhost:8080/"
        },
        "id": "dpSncZyWajaQ",
        "outputId": "d026309a-9440-4c55-dab5-a9ff9ee87635"
      },
      "outputs": [
        {
          "data": {
            "text/plain": [
              "318"
            ]
          },
          "execution_count": 16,
          "metadata": {},
          "output_type": "execute_result"
        }
      ],
      "source": [
        "pd.read_csv(home+'submit_EllipticEnvelope.csv')['Class'].sum()"
      ]
    }
  ],
  "metadata": {
    "colab": {
      "collapsed_sections": [
        "58b756b1-798b-4136-89b3-ab0cd0a478ca"
      ],
      "machine_shape": "hm",
      "name": "신용카드 사기 거래 탐지 AI 경진대회[Public_score : 0.93052]",
      "provenance": []
    },
    "gpuClass": "standard",
    "kernelspec": {
      "display_name": "Python 3.7.13 ('deeplearning')",
      "language": "python",
      "name": "python3"
    },
    "language_info": {
      "codemirror_mode": {
        "name": "ipython",
        "version": 3
      },
      "file_extension": ".py",
      "mimetype": "text/x-python",
      "name": "python",
      "nbconvert_exporter": "python",
      "pygments_lexer": "ipython3",
      "version": "3.7.13"
    },
    "vscode": {
      "interpreter": {
        "hash": "33bb709aa52d0f1c012e153b74c2c585d1723b1d162db1a778a7381b9d9efdce"
      }
    }
  },
  "nbformat": 4,
  "nbformat_minor": 5
}
