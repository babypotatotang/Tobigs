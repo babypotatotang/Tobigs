{
  "cells": [
    {
      "cell_type": "markdown",
      "metadata": {
        "id": "CO3wRtZSpTEs"
      },
      "source": [
        "## **초기 세팅**\n",
        "* Google Colab 환경"
      ]
    },
    {
      "cell_type": "code",
      "execution_count": null,
      "metadata": {
        "id": "QapDOtpUl6Id"
      },
      "outputs": [],
      "source": [
        "%cd \"/content/drive/MyDrive/Colab Notebooks\"\n",
        "!unzip \"open.zip\""
      ]
    },
    {
      "cell_type": "markdown",
      "metadata": {},
      "source": [
        "## **결과**\n",
        "* Validation F1 Score : 70%\n",
        "* 점수 : 68"
      ]
    },
    {
      "cell_type": "markdown",
      "metadata": {
        "id": "TpLtatvYpbqT"
      },
      "source": [
        "## **Code**\n",
        "### **Import**"
      ]
    },
    {
      "cell_type": "code",
      "execution_count": null,
      "metadata": {
        "id": "rhsm0K_doMa4"
      },
      "outputs": [],
      "source": [
        "import pandas as pd\n",
        "import numpy as np\n",
        "\n",
        "from sklearn.ensemble import IsolationForest\n",
        "from sklearn.metrics import f1_score\n",
        "from sklearn.metrics import classification_report\n",
        "from sklearn.preprocessing import MinMaxScaler\n",
        "\n",
        "import matplotlib.pyplot as plt\n",
        "\n",
        "import warnings\n",
        "warnings.filterwarnings(action='ignore')"
      ]
    },
    {
      "cell_type": "markdown",
      "metadata": {
        "id": "DAoy9tFOpzFA"
      },
      "source": [
        "### **Data Load**"
      ]
    },
    {
      "cell_type": "code",
      "execution_count": null,
      "metadata": {
        "id": "SXjEcjH_orBc"
      },
      "outputs": [],
      "source": [
        "train_df = pd.read_csv('./train.csv') # Train\n",
        "train_df.head()"
      ]
    },
    {
      "cell_type": "code",
      "execution_count": null,
      "metadata": {
        "id": "VtziFxp6p3Xa"
      },
      "outputs": [],
      "source": [
        "val_df = pd.read_csv('./val.csv') # Validation\n",
        "val_df.head()"
      ]
    },
    {
      "cell_type": "markdown",
      "metadata": {
        "id": "WI9-udTyp3Il"
      },
      "source": [
        "### **Train / Validation Feature 분포 확인**"
      ]
    },
    {
      "cell_type": "code",
      "execution_count": null,
      "metadata": {
        "id": "CsZC5PGhp_lD"
      },
      "outputs": [],
      "source": [
        "train_df.drop(columns=['ID']).hist(bins = 50, figsize =(20,20))\n",
        "plt.show()"
      ]
    },
    {
      "cell_type": "code",
      "execution_count": null,
      "metadata": {
        "id": "Q7yrYplqqadT"
      },
      "outputs": [],
      "source": [
        "val_df.drop(columns=['ID','Class']).hist(bins = 50, figsize =(20,20))\n",
        "plt.show()"
      ]
    },
    {
      "cell_type": "markdown",
      "metadata": {
        "id": "1lyY72LjrJNE"
      },
      "source": [
        "### **Validation set 사기 거래 비율**\n",
        "* **Validation set의 사기 거래 비율이 다른 데이터 집합에서도 비슷하게 발생할 것이라고 가정**"
      ]
    },
    {
      "cell_type": "code",
      "execution_count": null,
      "metadata": {
        "id": "q7s8gABvrTmn"
      },
      "outputs": [],
      "source": [
        "val_normal, val_fraud = val_df['Class'].value_counts()\n",
        "val_contamination = val_fraud / val_normal\n",
        "print(f'Validation contamination : [{val_contamination}]')"
      ]
    },
    {
      "cell_type": "markdown",
      "metadata": {
        "id": "Lcpog3GYry6W"
      },
      "source": [
        "### **Model Define & Fit**"
      ]
    },
    {
      "cell_type": "code",
      "execution_count": null,
      "metadata": {
        "id": "3N40lAyhrTrj"
      },
      "outputs": [],
      "source": [
        "# Train dataset은 Label이 존재하지 않음\n",
        "train_x = train_df.drop(columns=['ID']) # InputData(ID 제외)    "
      ]
    },
    {
      "cell_type": "code",
      "execution_count": null,
      "metadata": {
        "id": "fofRDT_grTvR"
      },
      "outputs": [],
      "source": [
        "# 가설 설정 \n",
        "# Train Dataset도 Validation Dataset과 동일한 비율로 사기거래가 발생했을 것이다. \n",
        "# => model parameter값을 val_contamination으로\n",
        "model = IsolationForest(n_estimators = 125, max_samples = len(train_x), contamination = val_contamination, random_state=42, verbose=0)\n",
        "model.fit(train_x)"
      ]
    },
    {
      "cell_type": "markdown",
      "metadata": {
        "id": "7XrIK2m5vPox"
      },
      "source": [
        "### **Evaluation : Validation set**"
      ]
    },
    {
      "cell_type": "code",
      "execution_count": null,
      "metadata": {
        "id": "aslNhWprvV7d"
      },
      "outputs": [],
      "source": [
        "def get_pred_label(model_pred):\n",
        "    model_pred = np.where(model_pred == 1, 0, model_pred)\n",
        "    model_pred = np.where(model_pred == -1,1, model_pred)\n",
        "\n",
        "    return model_pred"
      ]
    },
    {
      "cell_type": "code",
      "execution_count": null,
      "metadata": {
        "id": "znuku-xXv03v"
      },
      "outputs": [],
      "source": [
        "val_x = val_df.drop(columns=['ID','Class']) #Input Data\n",
        "val_y = val_df['Class'] # Label\n",
        "\n",
        "val_pred = model.predict(val_x)\n",
        "val_pred = get_pred_label(val_pred)\n",
        "val_score = f1_score(val_y,val_pred,average='macro')\n",
        "print(f'Validation F1 Score : [{val_score}]')\n",
        "print(classification_report(val_y,val_pred))"
      ]
    },
    {
      "cell_type": "markdown",
      "metadata": {
        "id": "AKhTB6gGwi_F"
      },
      "source": [
        "### **Inference : Test set**"
      ]
    },
    {
      "cell_type": "code",
      "execution_count": null,
      "metadata": {
        "id": "LSd2S-Zxw4VN"
      },
      "outputs": [],
      "source": [
        "test_df = pd.read_csv('./test.csv')\n",
        "test_df.head()"
      ]
    },
    {
      "cell_type": "code",
      "execution_count": null,
      "metadata": {
        "id": "7BnD4NARw_ff"
      },
      "outputs": [],
      "source": [
        "test_x = test_df.drop(columns=['ID'])"
      ]
    },
    {
      "cell_type": "code",
      "execution_count": null,
      "metadata": {
        "id": "LrYxKqXScvg7"
      },
      "outputs": [],
      "source": [
        "test_scaled = Scaler.fit_transform(test_x)\n",
        "test_x = pd.DataFrame(test_scaled, columns = test_x.columns, index=list(test_x.index.values))"
      ]
    },
    {
      "cell_type": "code",
      "execution_count": null,
      "metadata": {
        "id": "-Ymyk7bwxGhm"
      },
      "outputs": [],
      "source": [
        "test_pred = model.predict(test_x) # model prediction\n",
        "test_pred = get_pred_label(test_pred)"
      ]
    },
    {
      "cell_type": "markdown",
      "metadata": {
        "id": "6d9VNcQbxR1L"
      },
      "source": [
        "### **Submission**"
      ]
    },
    {
      "cell_type": "code",
      "execution_count": null,
      "metadata": {
        "id": "-DGcmIxAxTtE"
      },
      "outputs": [],
      "source": [
        "submit = pd.read_csv('./sample_submission.csv')\n",
        "submit.head()"
      ]
    },
    {
      "cell_type": "code",
      "execution_count": null,
      "metadata": {
        "id": "3vKa5u2ExbKK"
      },
      "outputs": [],
      "source": [
        "submit['Class'] = test_pred\n",
        "submit.to_csv('./submit.csv',index=False)"
      ]
    },
    {
      "cell_type": "code",
      "execution_count": null,
      "metadata": {
        "id": "aL21uS7ucaTe"
      },
      "outputs": [],
      "source": [
        "submit.head()"
      ]
    }
  ],
  "metadata": {
    "colab": {
      "name": "신용카드 사기 거래 탐지 AI 경진대회.ipynb",
      "private_outputs": true,
      "provenance": []
    },
    "kernelspec": {
      "display_name": "Python 3.7.13 ('deeplearning')",
      "language": "python",
      "name": "python3"
    },
    "language_info": {
      "name": "python",
      "version": "3.7.13"
    },
    "vscode": {
      "interpreter": {
        "hash": "33bb709aa52d0f1c012e153b74c2c585d1723b1d162db1a778a7381b9d9efdce"
      }
    }
  },
  "nbformat": 4,
  "nbformat_minor": 0
}
