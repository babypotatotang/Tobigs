{
  "cells": [
    {
      "cell_type": "code",
      "execution_count": null,
      "metadata": {
        "id": "DJXczumD1I1_"
      },
      "outputs": [],
      "source": [
        "%cd \"/content/drive/MyDrive/Colab Notebooks\""
      ]
    },
    {
      "cell_type": "markdown",
      "metadata": {
        "id": "jRLT4lF3-7cf"
      },
      "source": [
        "## **Import Libraries**"
      ]
    },
    {
      "cell_type": "code",
      "execution_count": null,
      "metadata": {
        "id": "GDpxPN_L-6Gf"
      },
      "outputs": [],
      "source": [
        "# Import libraries\n",
        "'''Main'''\n",
        "import numpy as np\n",
        "import pandas as pd\n",
        "import os, time\n",
        "import pickle, gzip\n",
        "\n",
        "'''Data Viz'''\n",
        "import matplotlib.pyplot as plt\n",
        "import seaborn as sns\n",
        "color = sns.color_palette()\n",
        "import matplotlib as mpl\n",
        "\n",
        "%matplotlib inline\n",
        "\n",
        "'''Data Prep and Model Evaluation'''\n",
        "from sklearn import preprocessing as pp\n",
        "from sklearn.model_selection import train_test_split \n",
        "from sklearn.metrics import precision_recall_curve, average_precision_score\n",
        "from sklearn.metrics import roc_curve, auc, roc_auc_score"
      ]
    },
    {
      "cell_type": "code",
      "execution_count": null,
      "metadata": {
        "id": "nqK4gykO_BGr"
      },
      "outputs": [],
      "source": [
        "%cd '/content/drive/MyDrive/Colab Notebooks/신용카드 사기 거래 탐지 AI'\n",
        "\n",
        "train_df = pd.read_csv('train.csv',index_col=0)\n",
        "val_df = pd.read_csv('val.csv',index_col=0)\n",
        "\n",
        "print(train_df.shape)\n",
        "print(val_df.shape) "
      ]
    },
    {
      "cell_type": "code",
      "execution_count": null,
      "metadata": {
        "id": "SvYjJLwf_W4w"
      },
      "outputs": [],
      "source": [
        "import numpy as np\n",
        "from sklearn.semi_supervised import LabelPropagation"
      ]
    },
    {
      "cell_type": "code",
      "execution_count": null,
      "metadata": {
        "id": "aWFcmKl9JMsF"
      },
      "outputs": [],
      "source": [
        "train_df.columns"
      ]
    },
    {
      "cell_type": "code",
      "execution_count": null,
      "metadata": {
        "id": "yySx2ReoH1pY"
      },
      "outputs": [],
      "source": [
        "train_x = train_df"
      ]
    },
    {
      "cell_type": "markdown",
      "metadata": {
        "id": "UBjXLFuZMesq"
      },
      "source": [
        "* Refer \n",
        "    * https://jaeyung1001.tistory.com/89\n",
        "* 일단 한번 따라서 해보기"
      ]
    },
    {
      "cell_type": "code",
      "execution_count": null,
      "metadata": {
        "id": "Hft9dxtl_gZ_"
      },
      "outputs": [],
      "source": [
        "import pandas as pd\n",
        "import numpy as np\n",
        "\n",
        "import matplotlib.pyplot as plt\n",
        "\n",
        "from sklearn import datasets\n",
        "from sklearn import svm\n",
        "from sklearn.semi_supervised import LabelPropagation"
      ]
    },
    {
      "cell_type": "code",
      "execution_count": null,
      "metadata": {
        "id": "qmgO3qPkIUP0"
      },
      "outputs": [],
      "source": [
        "%cd '/content/drive/MyDrive/Colab Notebooks/신용카드 사기 거래 탐지 AI'\n",
        "\n",
        "val_df = pd.read_csv('val.csv',index_col=0)\n",
        "\n",
        "val_x = val_df.drop(['Class'],axis=1)\n",
        "val_y = val_df.loc[:,'Class'].copy()"
      ]
    },
    {
      "cell_type": "code",
      "execution_count": null,
      "metadata": {
        "id": "61SwD7O_NBVe"
      },
      "outputs": [],
      "source": [
        "rng = np.random.RandomState(0)"
      ]
    },
    {
      "cell_type": "code",
      "execution_count": null,
      "metadata": {
        "id": "PfZFxmgE_Qhg"
      },
      "outputs": [],
      "source": [
        "h = .02"
      ]
    },
    {
      "cell_type": "code",
      "execution_count": null,
      "metadata": {
        "id": "u6iHrpsaNH2y"
      },
      "outputs": [],
      "source": [
        "val_y_05 = np.copy(val_y)\n",
        "val_y_05[rng.rand(len(val_y)) < 0.05] = -1\n",
        "\n",
        "val_y_10 = np.copy(val_y)\n",
        "val_y_10[rng.rand(len(val_y)) < 0.1] = -1\n",
        "\n",
        "val_y_30 = np.copy(val_y)\n",
        "val_y_30[rng.rand(len(val_y)) < 0.3] = -1"
      ]
    },
    {
      "cell_type": "code",
      "execution_count": null,
      "metadata": {
        "id": "U44HXqxWNhjj"
      },
      "outputs": [],
      "source": [
        "label_propagation = LabelPropagation()\n",
        "\n",
        "ls05 = label_propagation.fit(val_x,val_y_05)"
      ]
    },
    {
      "cell_type": "code",
      "execution_count": null,
      "metadata": {
        "id": "XkiKVhu3P9Xk"
      },
      "outputs": [],
      "source": [
        "train_df = pd.read_csv('train.csv')\n",
        "train_x = train_df.drop(columns =['ID'] )"
      ]
    },
    {
      "cell_type": "code",
      "execution_count": null,
      "metadata": {
        "id": "zh9qj5xDOUUs"
      },
      "outputs": [],
      "source": [
        "ss = ls05.predict(train_x)"
      ]
    }
  ],
  "metadata": {
    "accelerator": "GPU",
    "colab": {
      "collapsed_sections": [],
      "name": "study.ipynb",
      "private_outputs": true,
      "provenance": []
    },
    "gpuClass": "standard",
    "kernelspec": {
      "display_name": "Python 3.7.13 ('deeplearning')",
      "language": "python",
      "name": "python3"
    },
    "language_info": {
      "codemirror_mode": {
        "name": "ipython",
        "version": 3
      },
      "file_extension": ".py",
      "mimetype": "text/x-python",
      "name": "python",
      "nbconvert_exporter": "python",
      "pygments_lexer": "ipython3",
      "version": "3.7.13"
    },
    "vscode": {
      "interpreter": {
        "hash": "33bb709aa52d0f1c012e153b74c2c585d1723b1d162db1a778a7381b9d9efdce"
      }
    }
  },
  "nbformat": 4,
  "nbformat_minor": 0
}
